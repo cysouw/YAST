{
 "cells": [
  {
   "cell_type": "code",
   "execution_count": 4,
   "metadata": {},
   "outputs": [
    {
     "name": "stdout",
     "output_type": "stream",
     "text": [
      "The autoreload extension is already loaded. To reload it, use:\n",
      "  %reload_ext autoreload\n"
     ]
    }
   ],
   "source": [
    "%load_ext autoreload\n",
    "%autoreload 2\n",
    "from lexicon import *\n",
    "from yast import *"
   ]
  },
  {
   "cell_type": "code",
   "execution_count": 7,
   "metadata": {},
   "outputs": [
    {
     "name": "stdout",
     "output_type": "stream",
     "text": [
      "Die Männer deren |1 |2 |3 |4 kleinen |5 Kinder schlecht |6 schlafen habe ich gestern |7 |8 in deinem |9 schönen |10 Garten gesehen.\n"
     ]
    }
   ],
   "source": [
    "reset()\n",
    "s = \"\"\"\n",
    "sehen (Perfekt)\n",
    "  Gesehene: Mann (Plural + Definit)\n",
    "    schlafen\n",
    "      Schlafende: Kind (Plural + Besitzer: Mann)\n",
    "        klein\n",
    "      schlecht\n",
    "  Sehende: 1\n",
    "  gestern\n",
    "  in: Garten (Definit + Besitzer: 2)\n",
    "    schön\n",
    "\"\"\"\n",
    "Syntax(s, seq = True)"
   ]
  },
  {
   "cell_type": "code",
   "execution_count": 2,
   "metadata": {},
   "outputs": [
    {
     "name": "stdout",
     "output_type": "stream",
     "text": [
      "  Nominativ: 1 (Plural)\n",
      "  sehen\n",
      "  Nominativ: m\n",
      "    Kopf: Haus\n",
      "\n"
     ]
    }
   ],
   "source": [
    "print(Parse('Wir sehen das Haus', '1 sehen ART Haus'))"
   ]
  },
  {
   "cell_type": "code",
   "execution_count": 2,
   "metadata": {},
   "outputs": [
    {
     "name": "stdout",
     "output_type": "stream",
     "text": [
      "Wir |1 haben |5 |2 das |4 |3 Haus gesehen.\n",
      "=====\n",
      "<SATZ kind=\"Wurzel\" tense=\"Präsens\">\n",
      "  <SATZ kind=\"Hauptsatz\" tense=\"Präsens\">\n",
      "    <VORFELD>\n",
      "      <ARGUMENT role=\"Sehende\" case=\"Nominativ\">\n",
      "        <PHRASE case=\"Nominativ\">\n",
      "          <PRONOMEN person=\"1\" number=\"Plural\">wir</PRONOMEN>\n",
      "          <FERTIG>|1</FERTIG>\n",
      "        </PHRASE>\n",
      "      </ARGUMENT>\n",
      "    </VORFELD>\n",
      "    <VERBZWEIT>\n",
      "      <FINITUM verb=\"haben\" tense=\"Präsens\" person=\"1\" number=\"Plural\">haben</FINITUM>\n",
      "    </VERBZWEIT>\n",
      "    <FERTIG>|5</FERTIG>\n",
      "    <FERTIG>|2</FERTIG>\n",
      "    <ARGUMENT role=\"Nominativ\" case=\"Nominativ\">\n",
      "      <PHRASE case=\"Nominativ\">\n",
      "        <DETERMINATIV>\n",
      "          <ARTIKEL>das</ARTIKEL>\n",
      "        </DETERMINATIV>\n",
      "        <FERTIG>|4</FERTIG>\n",
      "        <FERTIG>|3</FERTIG>\n",
      "        <REFERENT>Haus</REFERENT>\n",
      "      </PHRASE>\n",
      "    </ARGUMENT>\n",
      "    <PRÄDIKAT>\n",
      "      <PERFEKT verb=\"haben\">\n",
      "        <VERB verb=\"sehen\">\n",
      "          <PARTIZIP>gesehen</PARTIZIP>\n",
      "        </VERB>\n",
      "        <FINITUM move=\"Verbzweit\"/>\n",
      "      </PERFEKT>\n",
      "    </PRÄDIKAT>\n",
      "  </SATZ>\n",
      "</SATZ>\n",
      "\n"
     ]
    }
   ],
   "source": [
    "reset()\n",
    "s = \"\"\"\n",
    "  Nominativ: 1 (Plural)\n",
    "e (Perfekt)\n",
    "  Nominativ: n (Definit)\n",
    "    Kopf: Haus\n",
    "  Kopf: sehen\n",
    "\"\"\"\n",
    "Syntax(s, xml = True, seq = True)"
   ]
  },
  {
   "cell_type": "code",
   "execution_count": 4,
   "metadata": {},
   "outputs": [
    {
     "name": "stdout",
     "output_type": "stream",
     "text": [
      "Ich kann der Vater sein.\n",
      "Ich kann der Vater sein.\n",
      "Ich kann der Vater sein.\n"
     ]
    }
   ],
   "source": [
    "# the first two are exactly the same\n",
    "# the third has a slightly different internal structure\n",
    "\n",
    "reset()\n",
    "s = \"\"\"\n",
    "Vater (sein + können + Definit)\n",
    "  Seinde: 1\n",
    "\n",
    "  Nominativ: 1\n",
    "e (können)\n",
    "  Nominativ: m (Definit)\n",
    "  Kopf: Vater (sein)\n",
    "\n",
    "  Nominativ: 1\n",
    "e (sein + können)\n",
    "  Nominativ: m (Definit)\n",
    "    Kopf: Vater\n",
    "\"\"\"\n",
    "Syntax(s)"
   ]
  },
  {
   "cell_type": "code",
   "execution_count": 5,
   "metadata": {},
   "outputs": [
    {
     "name": "stdout",
     "output_type": "stream",
     "text": [
      "Ich bin in dem |1 |2 |3 Haus.\n",
      "Ich |1 bin |4 |2 in dem |3 Haus gewesen.\n",
      "Ich |1 bin |2 in dem |4 |3 Haus.\n"
     ]
    }
   ],
   "source": [
    "# the first two are the same local predicative\n",
    "# the third results in an adverbial local phrase\n",
    "\n",
    "reset()\n",
    "s = \"\"\"\n",
    "in (sein)\n",
    "  Seinde: 1\n",
    "  Ort: Haus (Definit)\n",
    "\n",
    "  Nominativ: 1\n",
    "e (Perfekt: sein)\n",
    "  in: m (Definit)\n",
    "  Kopf: Haus (Kopula: sein)\n",
    "\n",
    "  Nominativ: 1\n",
    "e (sein)\n",
    "  in: m (Definit)\n",
    "    Kopf: Haus\n",
    "\"\"\"\n",
    "Syntax(s, seq = True)"
   ]
  },
  {
   "cell_type": "code",
   "execution_count": 6,
   "metadata": {},
   "outputs": [
    {
     "name": "stdout",
     "output_type": "stream",
     "text": [
      "Ich bin klein gewesen.\n",
      "Ich bin klein gewesen.\n"
     ]
    }
   ],
   "source": [
    "# same result, also internally!\n",
    "\n",
    "reset()\n",
    "s = \"\"\"\n",
    "  Nominativ: 1\n",
    "e\n",
    "  Kopf: klein (sein + Perfekt)\n",
    "\n",
    "klein (sein + Perfekt)\n",
    "  Seinde: 1\n",
    "\"\"\"\n",
    "Syntax(s)"
   ]
  },
  {
   "cell_type": "code",
   "execution_count": 7,
   "metadata": {},
   "outputs": [
    {
     "name": "stdout",
     "output_type": "stream",
     "text": [
      "Ich |1 habe |8 |2 darauf gehofft |3 |7 dass ich |4 dich |5 gestern |6 sehen würde.\n",
      "Ich habe darauf gehofft |1 |2 |3 dass ich |4 dich |5 gestern |6 sehen würde.\n",
      "In dem |3 |1 großen |2 Haus haben |9 die |7 |4 |5 kleinen |6 Männer mich |8 gesehen.\n",
      "In dem großen Garten hat die kleine Frau mich |1 |2 |3 |4 |5 |6 gesehen.\n"
     ]
    }
   ],
   "source": [
    "reset()\n",
    "\n",
    "s = \"\"\"\n",
    "  Nominativ: 1\n",
    "e (Perfekt)\n",
    "  auf: e\n",
    "    Nominativ: 1\n",
    "    Akkusativ: 2\n",
    "    gestern\n",
    "    Kopf: sehen (Modalverb: werden + Irrealis)\n",
    "  Kopf: hoffen\n",
    "\n",
    "hoffen (Perfekt)\n",
    "  Hoffende: 1\n",
    "  Gehoffte: sehen (Modalverb: werden + Irrealis)\n",
    "    Sehende: 1\n",
    "    Gesehene: 2\n",
    "    gestern\n",
    "\n",
    "  in: m (Definit)\n",
    "    groß\n",
    "    Kopf: Haus\n",
    "e (Perfekt)\n",
    "  Nominativ: p (Definit)\n",
    "    klein\n",
    "    Kopf: Mann\n",
    "  Akkusativ: 1\n",
    "  Kopf: sehen (Präteritum)\n",
    "\n",
    "sehen (Perfekt)\n",
    "  in: Garten (Definit + Voll)\n",
    "    groß\n",
    "  Sehende: Frau (Definit)\n",
    "    klein\n",
    "  Gesehene: 1\n",
    "\"\"\"\n",
    "Syntax(s, seq = True)"
   ]
  },
  {
   "cell_type": "code",
   "execution_count": 8,
   "metadata": {},
   "outputs": [
    {
     "data": {
      "text/plain": [
       "False"
      ]
     },
     "execution_count": 8,
     "metadata": {},
     "output_type": "execute_result"
    }
   ],
   "source": [
    "Verben.get('sein', {}).get('Präsens', {}).get('Singular', {}).get('1', False)"
   ]
  },
  {
   "cell_type": "code",
   "execution_count": 9,
   "metadata": {},
   "outputs": [
    {
     "name": "stdout",
     "output_type": "stream",
     "text": [
      "Dass ich sehe ist schön.\n",
      "Zu sehen ist schön.\n",
      "Das Sehen ist schön.\n",
      "Dass ich ein Haus sehe ist schön.\n",
      "Ein Haus zu sehen ist schön.\n",
      "Das Sehen eines Hauses ist schön.\n"
     ]
    }
   ],
   "source": [
    "reset()\n",
    "s = \"\"\"\n",
    "schön (sein)\n",
    "  Seinde: sehen\n",
    "    Sehende: 1\n",
    "\n",
    "schön (sein)\n",
    "  Seinde: sehen (Infinit)\n",
    "\n",
    "schön (sein)\n",
    "  Seinde: Sehen (Definit)\n",
    "\n",
    "schön (sein)\n",
    "  Seinde: sehen\n",
    "    Sehende: 1\n",
    "    Gesehene: Haus (Indefinit)\n",
    "\n",
    "schön (sein)\n",
    "  Seinde: sehen (Infinit)\n",
    "    Gesehene: Haus (Indefinit + Voll)\n",
    "\n",
    "schön (sein)\n",
    "  Seinde: Sehen (Definit + Voll)\n",
    "    Haus (Indefinit + Voll)\n",
    "\"\"\"\n",
    "Syntax(s)"
   ]
  },
  {
   "cell_type": "code",
   "execution_count": 10,
   "metadata": {},
   "outputs": [
    {
     "name": "stdout",
     "output_type": "stream",
     "text": [
      "Der starke Mann läuft.\n",
      "Der starke Mann läuft.\n",
      "Der durch seine Leistungen starke Mann läuft.\n",
      "Der durch seine Leistungen stark gewordene Mann läuft.\n"
     ]
    }
   ],
   "source": [
    "# roundtrip A -> V -> A\n",
    "# allows for adverbial modification of adjective\n",
    "\n",
    "reset()\n",
    "s = \"\"\"\n",
    "laufen\n",
    "  Laufende: Mann (Definit)\n",
    "    stark\n",
    "\n",
    "laufen\n",
    "  Laufende: Mann (Definit + Voll)\n",
    "    stark (sein + Infinit)\n",
    "\n",
    "laufen\n",
    "  Laufende: Mann (Definit + Voll)\n",
    "    stark (sein + Infinit)\n",
    "      durch: Leistung (Plural + Besitzer: Mann)\n",
    "\n",
    "laufen\n",
    "  Laufende: Mann (Definit + Voll)\n",
    "    stark (Kopula: werden + Zustandspassiv + Infinit)\n",
    "      durch: Leistung (Plural + Besitzer: Mann + Voll)\n",
    "\"\"\"\n",
    "Syntax(s)"
   ]
  },
  {
   "cell_type": "code",
   "execution_count": 11,
   "metadata": {},
   "outputs": [
    {
     "name": "stdout",
     "output_type": "stream",
     "text": [
      "Wer zu spät kommt verpasst das Beste.\n",
      "Was denkst du was ich gesehen habe?\n",
      "Was du denkst habe ich gesehen?\n",
      "Was ich gesehen habe denkst du?\n"
     ]
    }
   ],
   "source": [
    "# wer-der not yet possible 'wer zu spät kommt, der verpasst das Beste'\n",
    "# was-das(s) does not work: 'Was denkst du, das(s?) ich gesehen habe', 'was hast du gemacht, dass er schon schläft'\n",
    "# Problem: 'was denkst du habe ich gesehen?'\n",
    "\n",
    "\n",
    "reset()\n",
    "s = \"\"\"\n",
    "verpassen\n",
    "  Verpassende: kommen (Frage)\n",
    "    Kommende: 0b\n",
    "    spät (Grad: zu)\n",
    "  Verpasste: Beste (Definit)\n",
    "\n",
    "denken (Frage)\n",
    "  Gedachte: 0\n",
    "  Denkende: 2\n",
    "  sehen (Perfekt)\n",
    "    Gesehene: n\n",
    "    Sehende: 1\n",
    "\n",
    "sehen (Perfekt + Frage)\n",
    "  Gesehene: denken (Frage)\n",
    "    Gedachte: 0\n",
    "    Denkende: 2\n",
    "  Sehende: 1\n",
    "\n",
    "denken (Frage)\n",
    "  Gedachte: sehen (Perfekt + Frage)\n",
    "    Gesehene: 0\n",
    "    Sehende: 1\n",
    "  Denkende: 2\n",
    "\"\"\"\n",
    "Syntax(s)"
   ]
  },
  {
   "cell_type": "code",
   "execution_count": 12,
   "metadata": {},
   "outputs": [
    {
     "name": "stdout",
     "output_type": "stream",
     "text": [
      "Gestern |1 haben mich der kleine Mann und die |2 |3 |4 |5 |6 große |7 Frau in dem |8 Haus gesehen.\n"
     ]
    }
   ],
   "source": [
    "# problem to establish form of finite verb\n",
    "\n",
    "reset()\n",
    "s = \"\"\"\n",
    "  gestern\n",
    "sehen (Perfekt)\n",
    "  Gesehene: 1\n",
    "  Sehende: Mann (Definit)\n",
    "    klein\n",
    "    und: Frau (Definit)\n",
    "      groß\n",
    "  in: Haus (Definit)\n",
    "\"\"\"\n",
    "Syntax(s, seq = True)"
   ]
  },
  {
   "cell_type": "code",
   "execution_count": 13,
   "metadata": {},
   "outputs": [
    {
     "name": "stdout",
     "output_type": "stream",
     "text": [
      "Ich laufe.\n",
      "Deswegen bin ich müde.\n",
      "Ich laufe deswegen bin ich müde.\n",
      "Ich laufe denn ich bin müde.\n",
      "Ich laufe weil ich müde bin.\n"
     ]
    }
   ],
   "source": [
    "# highly similar coordination-like structures, different internally!\n",
    "\n",
    "reset()\n",
    "s = \"\"\"\n",
    "laufen\n",
    "  Laufende: 1\n",
    "\n",
    "  deswegen\n",
    "müde (sein)\n",
    "  Seinde: 1\n",
    "\n",
    "laufen\n",
    "  Laufende: 1\n",
    "  deswegen: müde (sein)\n",
    "    Seinde: 1\n",
    "\n",
    "laufen\n",
    "  Laufende: 1\n",
    "  denn: müde (sein)\n",
    "    Seinde: 1\n",
    "\n",
    "laufen\n",
    "  Laufende: 1\n",
    "  weil: müde (sein)\n",
    "    Seinde: 1\n",
    "\"\"\"\n",
    "Syntax(s)"
   ]
  },
  {
   "cell_type": "code",
   "execution_count": 14,
   "metadata": {},
   "outputs": [
    {
     "name": "stdout",
     "output_type": "stream",
     "text": [
      "Die schnelleren Ältesten laufen.\n",
      "Die Frau die nicht gut schläft und ich der besser schläft laufen.\n",
      "Dort schlafen ich und der Mann der ältesten Bäcker*in.\n"
     ]
    }
   ],
   "source": [
    "reset()\n",
    "s = \"\"\"\n",
    "laufen\n",
    "  Laufende: p (Definit)\n",
    "    Kopf: alt (Superlativ)\n",
    "    schnell (Komparativ)\n",
    "\n",
    "laufen\n",
    "  Laufende: Frau (Definit)\n",
    "    schlafen\n",
    "      Schlafende: Frau\n",
    "      gut (Grad: nicht)\n",
    "    und: 1\n",
    "      schlafen\n",
    "        Schlafende: m\n",
    "        gut (Komparativ)\n",
    "\n",
    "schlafen\n",
    "  dort\n",
    "  Schlafende: 1\n",
    "    und: Mann (Definit)\n",
    "      q (Definit)\n",
    "        alt (Superlativ)\n",
    "        Kopf: Bäcker\n",
    "\"\"\"\n",
    "Syntax(s)"
   ]
  },
  {
   "cell_type": "code",
   "execution_count": 15,
   "metadata": {},
   "outputs": [
    {
     "name": "stdout",
     "output_type": "stream",
     "text": [
      "Gelaufen haben werde ich.\n",
      "Laufen tue ich gerne.\n",
      "Es war einmal ein kleines Mädchen.\n",
      "Ich lasse mich gerne sehen.\n"
     ]
    }
   ],
   "source": [
    "reset()\n",
    "s = \"\"\"\n",
    "laufen (Perfekt + werden + Vorn)\n",
    "  Laufende: 1\n",
    "\n",
    "laufen (Vorn)\n",
    "  Laufende: 1\n",
    "  gerne\n",
    "\n",
    "Mädchen (sein + Präteritum + Indefinit + Thetisch)\n",
    "  klein\n",
    "  einmal\n",
    "\n",
    "sehen (Permissivpassiv)\n",
    "  Gesehene: 1\n",
    "  gerne\n",
    "\"\"\"\n",
    "Syntax(s)"
   ]
  },
  {
   "cell_type": "code",
   "execution_count": 16,
   "metadata": {},
   "outputs": [
    {
     "name": "stdout",
     "output_type": "stream",
     "text": [
      "Sehr klein bin ich.\n",
      "Ich bin in dem Haus in der Natur gewesen.\n",
      "Väter die viel schlafen können hat es immer gegeben.\n",
      "Es gibt keinen Grund für dein Lächeln.\n"
     ]
    }
   ],
   "source": [
    "reset()\n",
    "s = \"\"\"\n",
    "klein (sein + Vorn + Grad: sehr)\n",
    "  Seinde: 1\n",
    "\n",
    "in (sein + Perfekt)\n",
    "  Seinde: 1\n",
    "  Ort: Haus (Definit)\n",
    "    in: Natur (Definit)\n",
    "\n",
    "Vater (geben + Vorn + Plural + Perfekt)\n",
    "  schlafen (können)\n",
    "    Schlafende: Vater\n",
    "    viel\n",
    "  immer\n",
    "\n",
    "Grund (geben + Thetisch + kein)\n",
    "  für: Lächeln (Besitzer: 2)\n",
    "\"\"\"\n",
    "Syntax(s)"
   ]
  },
  {
   "cell_type": "code",
   "execution_count": 17,
   "metadata": {},
   "outputs": [
    {
     "name": "stdout",
     "output_type": "stream",
     "text": [
      "Klein bin ich.\n",
      "Ich sehe dass ihr klein gewesen seit.\n",
      "Ich muss dein Vater gewesen sein.\n",
      "Wessen alte Mutter bist du?\n"
     ]
    }
   ],
   "source": [
    "reset()\n",
    "s = \"\"\"\n",
    "klein (sein + Vorn )\n",
    "  Seinde: 1\n",
    "\n",
    "sehen\n",
    "  Sehende: 1\n",
    "  Gesehene: klein (sein + Plural + Perfekt)\n",
    "    Seinde: 2p\n",
    "\n",
    "Vater (sein + Besitzer: 2 + Perfekt + müssen)\n",
    "  Seinde: 1\n",
    "\n",
    "Mutter (sein + Vorn + Besitzer + Frage)\n",
    "  Seinde: 2\n",
    "  alt\n",
    "\"\"\"\n",
    "Syntax(s)"
   ]
  },
  {
   "cell_type": "code",
   "execution_count": 18,
   "metadata": {},
   "outputs": [
    {
     "name": "stdout",
     "output_type": "stream",
     "text": [
      "Der sehr schnelle aber immer auch wieder langsame Mann laufen.\n"
     ]
    }
   ],
   "source": [
    "reset()\n",
    "s = \"\"\"\n",
    "laufen\n",
    "  Laufende: m (Definit)\n",
    "    schnell (Grad: sehr)\n",
    "      aber: langsam (Kopula: sein + Infinit)\n",
    "        immer\n",
    "        auch\n",
    "        wieder\n",
    "    Kopf: Mann\n",
    "\"\"\"\n",
    "Syntax(s)"
   ]
  },
  {
   "cell_type": "code",
   "execution_count": 20,
   "metadata": {},
   "outputs": [
    {
     "name": "stdout",
     "output_type": "stream",
     "text": [
      "Solange der Gläubiger sich noch durch die nachgeholte Leistung in Natur gegebenenfalls ergänzt durch den Ersatz von Verzögerungsschäden und sonstigen Schäden vollständig in die Lage versetzen lässt in der er sich bei pflichtgemäßer Leistung befände und die Leistung für den Schuldner weniger kostspielig ist als die Zahlung von Schadenersatz statt der Leistung gibt es keinen Grund um dem Gläubiger von vornherein die Entscheidung zwischen Erfüllung in Natur und Schadenersatz zu überlassen und ihm zu erlauben dem Schuldner durch die Wahl des Schadenersatzes den Kostenvorteil der Leistungserbringung zu nehmen.\n"
     ]
    }
   ],
   "source": [
    "reset()\n",
    "s = \"\"\"\n",
    "  solange: versetzen (Permissivpassiv)\n",
    "    Versetzte: Gläubiger (Definit)\n",
    "    noch\n",
    "    durch: Leistung (Definit)\n",
    "      nachholen (Zustandspassiv + Infinit)\n",
    "      in: Natur\n",
    "    gegebenenfalls: ergänzen (Zustandspassiv + Infinit + Vorn)\n",
    "      durch: Ersatz (Definit)\n",
    "        von: Verzögerungsschaden (Plural)\n",
    "          und: Schaden (Plural)\n",
    "            sonstig\n",
    "    vollständig\n",
    "    in: Lage (Definit + Bewegung)\n",
    "    befinden (Irrealis)\n",
    "      in: Lage\n",
    "      Befindende: Gläubiger\n",
    "      bei: Leistung (Voll)\n",
    "        pflichtgemäß\n",
    "    und: kostspielig (sein)\n",
    "      Seinde: Leistung (Definit + Voll)\n",
    "        für: Schuldner (Definit)\n",
    "      wenig (Komparativ)\n",
    "      als: Zahlung (Definit)\n",
    "        von: Schadenersatz\n",
    "        statt: Leistung (Definit + Voll)\n",
    "Grund (geben + kein)\n",
    "  um: überlassen (Infinit)\n",
    "    Rezipient: Gläubiger (Definit + Voll)\n",
    "    von vornherein\n",
    "    Überlassene: Entscheidung (Definit)\n",
    "      zwischen: Erfüllung\n",
    "        in: Natur (Voll)\n",
    "        und: Schadenersatz (Voll)\n",
    "    und: erlauben (Infinit)\n",
    "      Rezipient: Gläubiger (Definit)\n",
    "      Erlaubte: nehmen (Infinit)\n",
    "        Rezipient: Schuldner (Definit + Voll)\n",
    "        durch: Wahl (Definit)\n",
    "          Schadenersatz (Definit + Voll)\n",
    "        Genommene: Kostenvorteil (Definit)\n",
    "          Leistungserbringung (Definit)\n",
    "\"\"\"\n",
    "Syntax(s)"
   ]
  },
  {
   "cell_type": "code",
   "execution_count": 20,
   "metadata": {},
   "outputs": [
    {
     "name": "stdout",
     "output_type": "stream",
     "text": [
      "Ich laufe auf Grund von Ängsten.\n",
      "Ich laufe aufgrund Ängste.\n",
      "Ich habe gelaufen aufgrund dessen dass ich dich kenne.\n",
      "Ich habe dafür gelaufen dass ich dich endlich wieder sehen kann.\n"
     ]
    }
   ],
   "source": [
    "reset()\n",
    "s = \"\"\"\n",
    "laufen\n",
    "  Laufende: 1\n",
    "  auf: Grund\n",
    "    von: Angst (Plural)\n",
    "\n",
    "laufen\n",
    "  Laufende: 1\n",
    "  aufgrund: Angst (Plural + Voll)\n",
    "\n",
    "laufen (Perfekt)\n",
    "  Laufende: 1\n",
    "  aufgrund: kennen\n",
    "      Kennende: 1\n",
    "      Gekannte: 2\n",
    "\n",
    "laufen (Perfekt)\n",
    "  Laufende: 1\n",
    "  für: sehen (können)\n",
    "    Sehende: 1\n",
    "    Gesehene: 2\n",
    "    endlich\n",
    "    wieder\n",
    "\"\"\"\n",
    "Syntax(s)"
   ]
  },
  {
   "cell_type": "code",
   "execution_count": 21,
   "metadata": {},
   "outputs": [
    {
     "name": "stdout",
     "output_type": "stream",
     "text": [
      "Womit hast du gesehen?\n",
      "Womit du läufst ist falsch.\n"
     ]
    }
   ],
   "source": [
    "reset()\n",
    "s = \"\"\"\n",
    "sehen (Perfekt + Frage)\n",
    "  mit: 0\n",
    "  Sehende: 2\n",
    "\n",
    "falsch (sein)\n",
    "  Seinde: laufen (Frage)\n",
    "    mit: 0\n",
    "    Laufende: 2\n",
    "\"\"\"\n",
    "Syntax(s)"
   ]
  },
  {
   "cell_type": "code",
   "execution_count": 22,
   "metadata": {},
   "outputs": [
    {
     "name": "stdout",
     "output_type": "stream",
     "text": [
      "Der Mann hätte auf dem Geschenk über dem du dich freust gehofft.\n",
      "Ich habe darauf gewartet dass du dich darüber freust.\n",
      "Ich habe seit drei Tagen auf dem Geschenk gewartet darüber du dich wunderst.\n",
      "Ich sehe was du siehst.\n"
     ]
    }
   ],
   "source": [
    "reset()\n",
    "\n",
    "s = \"\"\"\n",
    "hoffen (Perfekt + Irrealis)\n",
    "  Hoffende: Mann (Definit)\n",
    "  Gehoffte: Geschenk (Definit)\n",
    "    freuen (ReflexivErlebniskonversiv + Präsens)\n",
    "      Auslöser: Geschenk\n",
    "      Freuende: 2\n",
    "\n",
    "warten (Perfekt)\n",
    "  Wartende: 1\n",
    "  Bewartete: freuen (ReflexivErlebniskonversiv)\n",
    "    Freuende: 2\n",
    "    Auslöser: Geschenk (Definit)\n",
    "\n",
    "warten (Perfekt)\n",
    "  Wartende: 1\n",
    "  seit: Tag (Plural + Numerale: drei)\n",
    "  Bewartete: Geschenk (Definit + Voll)\n",
    "  wundern (ReflexivErlebniskonversiv)\n",
    "    Auslöser: e\n",
    "    Verwunderte: 2\n",
    "\n",
    "sehen\n",
    "  Sehende: 1\n",
    "  Gesehene: n (Demonstrativ)\n",
    "    sehen\n",
    "      Gesehene: n\n",
    "      Sehende: 2\n",
    "\"\"\"\n",
    "Syntax(s)"
   ]
  },
  {
   "cell_type": "code",
   "execution_count": 23,
   "metadata": {},
   "outputs": [
    {
     "name": "stdout",
     "output_type": "stream",
     "text": [
      "Die Grundlage anhand deren wir den Beschluss nehmen ist falsch.\n"
     ]
    }
   ],
   "source": [
    "reset()\n",
    "s = \"\"\"\n",
    "falsch (sein)\n",
    "  Seinde: Grundlage (Definit)\n",
    "    nehmen\n",
    "      anhand: Grundlage\n",
    "      Nehmende: 1p\n",
    "      Genommene: Beschluss (Definit)\n",
    "\"\"\"\n",
    "Syntax(s)"
   ]
  },
  {
   "cell_type": "code",
   "execution_count": 24,
   "metadata": {},
   "outputs": [
    {
     "name": "stdout",
     "output_type": "stream",
     "text": [
      "Ich freue mich über dem Lächeln das auf deinem Gesicht zu sehen ist.\n"
     ]
    }
   ],
   "source": [
    "reset()\n",
    "s = \"\"\"\n",
    "freuen (ReflexivErlebniskonversiv)\n",
    "  Freuende: 1\n",
    "  Auslöser: Lächeln (Definit)\n",
    "    sehen (Modalpassiv)\n",
    "      Gesehene: Lächeln\n",
    "      auf: Gesicht (Besitzer: 2)\n",
    "\"\"\"\n",
    "Syntax(s)"
   ]
  },
  {
   "cell_type": "code",
   "execution_count": 25,
   "metadata": {},
   "outputs": [
    {
     "name": "stdout",
     "output_type": "stream",
     "text": [
      "Mit kaputten Schuhen haben die kleinen Männer laufen müssen.\n"
     ]
    }
   ],
   "source": [
    "reset()\n",
    "s = \"\"\"\n",
    "  mit: Schuh (Plural)\n",
    "    kaputt\n",
    "laufen (müssen + Perfekt)\n",
    "  Laufende: Mann (Plural + Definit)\n",
    "    klein\n",
    "\"\"\"\n",
    "Syntax(s)\n"
   ]
  },
  {
   "cell_type": "code",
   "execution_count": 26,
   "metadata": {},
   "outputs": [
    {
     "name": "stdout",
     "output_type": "stream",
     "text": [
      "Karl glaubt seine ihn betrügende Frau schlagen zu dürfen.\n",
      "Er hat was er geschenkt bekommen hat sofort in den Schrank gestellt.\n",
      "Der Mann von dessen Frau Maria ein Bild gemalt hat das ich kenne schläft.\n"
     ]
    }
   ],
   "source": [
    "# Karl glaubt seine ihn betrügende Frau schlagen zu dürfen.\n",
    "# Er hat, was er geschenkt bekommen hat, sofort in den Schrank gestellt.\n",
    "# Der Mann, von dessen Frau Maria ein Bild gemalt hat, das ich kenne, schläft.\n",
    "\n",
    "reset()\n",
    "s = \"\"\"\n",
    "glauben\n",
    "  Glaubende: Karl\n",
    "  Geglaubte: schlagen (dürfen + Infinit)\n",
    "    Geschlagene: Frau (Besitzer: Karl)\n",
    "      betrügen (Infinit)\n",
    "        Betrogene: Karl\n",
    "\n",
    "stellen (Perfekt)\n",
    "  Stellende: Karl\n",
    "  Gestellte: n\n",
    "    schenken (Rezipientenpassiv + Perfekt)\n",
    "      Geschenkte: n\n",
    "      Rezipient: Karl\n",
    "  sofort\n",
    "  in: Schrank (Definit + Bewegung)\n",
    "\n",
    "schlafen\n",
    "  Schlafende: Mann (Definit)\n",
    "    malen (Perfekt)\n",
    "      von: Frau (Besitzer: Mann + Voll)\n",
    "      Malende: Maria\n",
    "      Gemalte: Bild (Indefinit)\n",
    "      kennen\n",
    "        Gekannte: Bild\n",
    "        Kennende: 1\n",
    "\"\"\"\n",
    "Syntax(s)"
   ]
  },
  {
   "cell_type": "code",
   "execution_count": 5,
   "metadata": {},
   "outputs": [
    {
     "name": "stdout",
     "output_type": "stream",
     "text": [
      "Die Männer deren kleinen Kinder schlecht schlafen habe ich gestern in deinem schönen Garten gesehen.\n"
     ]
    }
   ],
   "source": [
    "reset()\n",
    "\n",
    "s = \"\"\"\n",
    "sehen (Perfekt)\n",
    "  Gesehene: Mann (Definit + Plural)\n",
    "    schlafen\n",
    "      Schlafende: Kind (Besitzer: Mann + Plural)\n",
    "        klein\n",
    "      schlecht\n",
    "  Sehende: 1\n",
    "  gestern\n",
    "  in: Garten (Definit + Besitzer: 2)\n",
    "    schön\n",
    "\"\"\"\n",
    "\n",
    "Syntax(s)"
   ]
  },
  {
   "cell_type": "code",
   "execution_count": 27,
   "metadata": {},
   "outputs": [
    {
     "name": "stdout",
     "output_type": "stream",
     "text": [
      "Ich habe die Männer gestern gesehen mit denen du immer läufst.\n",
      "Ich habe die Frauen mit denen du immer läufst gestern gesehen.\n",
      "Die Männer deren kleines Kind schläft habe ich gesehen.\n",
      "Ich habe dein Haus gesehen.\n",
      "Du hast gestern daran gearbeitet.\n"
     ]
    }
   ],
   "source": [
    "reset()\n",
    "\n",
    "s = \"\"\"\n",
    "sehen (Perfekt)\n",
    "  Sehende: 1\n",
    "  Gesehene: Mann (Definit + Plural)\n",
    "  gestern\n",
    "  laufen\n",
    "    mit: Mann\n",
    "    Laufende: 2\n",
    "    immer\n",
    "\n",
    "sehen (Perfekt)\n",
    "  Sehende: 1\n",
    "  Gesehene: Frau (Definit + Plural)\n",
    "    laufen\n",
    "      mit: Frau\n",
    "      Laufende: 2\n",
    "      immer\n",
    "  gestern\n",
    "\n",
    "sehen (Perfekt)\n",
    "  Gesehene: Mann (Definit + Voll)\n",
    "    schlafen\n",
    "      Schlafende: Kind (Besitzer: Mann)\n",
    "        klein\n",
    "  Sehende: 1\n",
    "\n",
    "sehen (Perfekt)\n",
    "  Sehende: 1\n",
    "  Gesehene: Haus (Definit + Besitzer: 2)\n",
    "\n",
    "arbeiten (Perfekt)\n",
    "  Arbeitende: 2\n",
    "  gestern\n",
    "  an: Haus\n",
    "\"\"\"\n",
    "\n",
    "Syntax(s)"
   ]
  },
  {
   "cell_type": "code",
   "execution_count": 28,
   "metadata": {},
   "outputs": [
    {
     "name": "stdout",
     "output_type": "stream",
     "text": [
      "Wie groß bist du?\n",
      "Wie viele große Kinder hast du?\n",
      "Was für Häuser hast du gesehen?\n",
      "Mit welchen Ängsten hast du gestern schlecht geschlafen?\n"
     ]
    }
   ],
   "source": [
    "reset()\n",
    "\n",
    "s = \"\"\"\n",
    "groß (sein + Frage + Vorn + Grad)\n",
    "  Seinde: 2\n",
    "\n",
    "Kind (haben + Plural + Quantor + Frage + Vorn)\n",
    "  groß\n",
    "  Habende: 2\n",
    "\n",
    "sehen (Perfekt + Frage)\n",
    "  Gesehene: Haus (Plural + Definit)\n",
    "  Sehende: 2\n",
    "\n",
    "schlafen (Perfekt + Frage)\n",
    "  mit: Angst (Plural + Indefinit)\n",
    "  Schlafende: 2\n",
    "  gestern\n",
    "  schlecht\n",
    "\"\"\"\n",
    "\n",
    "Syntax(s)"
   ]
  },
  {
   "cell_type": "code",
   "execution_count": 29,
   "metadata": {},
   "outputs": [
    {
     "name": "stdout",
     "output_type": "stream",
     "text": [
      "Warum hast du nicht gesehen wem etwas jemand schenkt?\n"
     ]
    }
   ],
   "source": [
    "reset()\n",
    "\n",
    "s = \"\"\"\n",
    "sehen (Perfekt + Frage)\n",
    "  warum\n",
    "  Sehende: 2\n",
    "  Gesehene: schenken (Frage)\n",
    "    Rezipient: 0b\n",
    "    Geschenkte: 0\n",
    "    Schenkende: 0 (Belebt)\n",
    "  nicht\n",
    "\"\"\"\n",
    "\n",
    "Syntax(s)"
   ]
  },
  {
   "cell_type": "code",
   "execution_count": 30,
   "metadata": {},
   "outputs": [
    {
     "name": "stdout",
     "output_type": "stream",
     "text": [
      "Gestern hat ich darauf gehofft gut zu schlafen ohne dauernd pinkeln zu müssen.\n"
     ]
    }
   ],
   "source": [
    "reset()\n",
    "s = \"\"\"\n",
    "hoffen (Perfekt + Präteritum)\n",
    "  gestern\n",
    "  Hoffende: 1\n",
    "  Gehoffte: schlafen (Infinit)\n",
    "    gut\n",
    "  ohne: pinkeln (müssen + Infinit)\n",
    "    dauernd\n",
    "\"\"\"\n",
    "Syntax(s)"
   ]
  },
  {
   "cell_type": "code",
   "execution_count": 31,
   "metadata": {},
   "outputs": [
    {
     "name": "stdout",
     "output_type": "stream",
     "text": [
      "Die eingeschlafene wartende hat gestern sehend gelaufen.\n"
     ]
    }
   ],
   "source": [
    "reset()\n",
    "s = \"\"\"\n",
    "laufen (Perfekt)\n",
    "  Laufende: f (Definit)\n",
    "    einschlafen (Perfekt + Infinit)\n",
    "    warten (Infinit)\n",
    "  gestern\n",
    "  sehen (Infinit)\n",
    "\"\"\"\n",
    "Syntax(s)"
   ]
  },
  {
   "cell_type": "code",
   "execution_count": 32,
   "metadata": {},
   "outputs": [
    {
     "name": "stdout",
     "output_type": "stream",
     "text": [
      "Vor drei Tagen sind jene alten Männer des Kindes von sich selbst in unseren Autos gesehen worden.\n"
     ]
    }
   ],
   "source": [
    "reset()\n",
    "#add('Mann')\n",
    "s = \"\"\"\n",
    "sehen (Vorgangspassiv + Perfekt)\n",
    "  vor: Tag (Plural + Numerale: drei)\n",
    "  Gesehene: Mann (Plural + jen)\n",
    "    alt\n",
    "    Kind (Definit)\n",
    "  Sehende: Mann\n",
    "    selbst\n",
    "  in: Auto (Plural + Besitzer: 1p)\n",
    "\"\"\"\n",
    "Syntax(s)"
   ]
  },
  {
   "cell_type": "code",
   "execution_count": 33,
   "metadata": {},
   "outputs": [
    {
     "name": "stdout",
     "output_type": "stream",
     "text": [
      "Gestern laufen ich du und das Kind mit dem alten und schwachen Vater aber ohne die Mutter und wir schlafen.\n"
     ]
    }
   ],
   "source": [
    "reset()\n",
    "s = \"\"\"\n",
    "  gestern\n",
    "laufen\n",
    "  Laufende: 1\n",
    "    : 2\n",
    "    und: Kind (Definit)\n",
    "  mit: Vater (Definit)\n",
    "    alt\n",
    "      und: schwach\n",
    "    aber:\n",
    "      ohne: Mutter (Definit)\n",
    "  und: schlafen\n",
    "    Schlafende: 1p\n",
    "\"\"\"\n",
    "Syntax(s)"
   ]
  },
  {
   "cell_type": "code",
   "execution_count": 34,
   "metadata": {},
   "outputs": [
    {
     "name": "stdout",
     "output_type": "stream",
     "text": [
      "Ich laufe und ich habe geschlafen.\n"
     ]
    }
   ],
   "source": [
    "reset()\n",
    "s = \"\"\"\n",
    "laufen\n",
    "  Laufende: 1\n",
    "  und: schlafen (Perfekt)\n",
    "    Schlafende: 1\n",
    "\"\"\"\n",
    "Syntax(s)"
   ]
  },
  {
   "cell_type": "code",
   "execution_count": 35,
   "metadata": {},
   "outputs": [
    {
     "name": "stdout",
     "output_type": "stream",
     "text": [
      "Ich laufe weil ich geschlafen habe aber ohne dass ich sehen kann.\n",
      "Ich laufe weil ich geschlafen habe und ich sehen kann.\n",
      "Der Vater ohne das Kind aber mit dem Haus läuft.\n",
      "Der Vater ohne Kind oder Haus läuft.\n"
     ]
    }
   ],
   "source": [
    "reset()\n",
    "s = \"\"\"\n",
    "laufen\n",
    "  Laufende: 1\n",
    "  weil: schlafen (Perfekt)\n",
    "    Schlafende: 1\n",
    "    aber:\n",
    "      ohne: sehen (können)\n",
    "        Sehende: 1\n",
    "\n",
    "laufen\n",
    "  Laufende: 1\n",
    "  weil: schlafen (Perfekt)\n",
    "    Schlafende: 1\n",
    "    und: sehen (können)\n",
    "        Sehende: 1\n",
    "\n",
    "laufen\n",
    "  Laufende: Vater (Definit)\n",
    "    ohne: Kind (Definit)\n",
    "      aber: \n",
    "        mit: Haus (Definit)\n",
    "\n",
    "laufen\n",
    "  Laufende: Vater (Definit + Voll)\n",
    "    ohne: Kind (Voll)\n",
    "      oder: Haus (Voll)\n",
    "\"\"\"\n",
    "Syntax(s)"
   ]
  },
  {
   "cell_type": "code",
   "execution_count": 36,
   "metadata": {},
   "outputs": [
    {
     "name": "stdout",
     "output_type": "stream",
     "text": [
      "Ich sehe den sehr fest schlafenden und mega laut schnarchenden Mann.\n"
     ]
    }
   ],
   "source": [
    "reset()\n",
    "s = \"\"\"\n",
    "sehen\n",
    "  Sehende: 1\n",
    "  Gesehene: Mann (Definit)\n",
    "    schlafen (Infinit)\n",
    "      fest (Grad: sehr)\n",
    "      und: schnarchen\n",
    "        laut (Grad: mega)\n",
    "\"\"\"\n",
    "Syntax(s)"
   ]
  },
  {
   "cell_type": "code",
   "execution_count": null,
   "metadata": {},
   "outputs": [],
   "source": []
  }
 ],
 "metadata": {
  "kernelspec": {
   "display_name": "Python 3",
   "language": "python",
   "name": "python3"
  },
  "language_info": {
   "codemirror_mode": {
    "name": "ipython",
    "version": 3
   },
   "file_extension": ".py",
   "mimetype": "text/x-python",
   "name": "python",
   "nbconvert_exporter": "python",
   "pygments_lexer": "ipython3",
   "version": "3.10.8"
  },
  "orig_nbformat": 4,
  "vscode": {
   "interpreter": {
    "hash": "b0fa6594d8f4cbf19f97940f81e996739fb7646882a419484c72d19e05852a7e"
   }
  }
 },
 "nbformat": 4,
 "nbformat_minor": 2
}
