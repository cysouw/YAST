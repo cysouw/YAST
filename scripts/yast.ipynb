{
 "cells": [
  {
   "cell_type": "code",
   "execution_count": 2,
   "metadata": {},
   "outputs": [],
   "source": [
    "%load_ext autoreload\n",
    "%autoreload 2\n",
    "from yast import *"
   ]
  },
  {
   "cell_type": "code",
   "execution_count": 3,
   "metadata": {},
   "outputs": [
    {
     "name": "stdout",
     "output_type": "stream",
     "text": [
      "<?xml version=\"1.0\"?>\n",
      "<!--\n",
      "Vater läuft mit mir und dir.\n",
      "-->\n",
      "<SATZ kind=\"Hauptsatz\">\n",
      "  <VORFELD>\n",
      "    <ARGUMENT role=\"Laufende\" case=\"Nominativ\" position=\"Vorfeld\">\n",
      "      <PHRASE case=\"Nominativ\">\n",
      "        <DETERMINATIV/>\n",
      "        <REFERENT>Vater</REFERENT>\n",
      "      </PHRASE>\n",
      "    </ARGUMENT>\n",
      "  </VORFELD>\n",
      "  <VERBZWEIT verb=\"laufen\" tense=\"Präsens\" person=\"3\" number=\"Singular\">läuft</VERBZWEIT>\n",
      "  <ADVERBIALE>\n",
      "    <JUNKTOR>mit</JUNKTOR>\n",
      "    <KOORDINATION>\n",
      "      <PHRASE case=\"Dativ\">\n",
      "        <PRONOMEN person=\"1\">mir</PRONOMEN>\n",
      "      </PHRASE>\n",
      "      <KONJUNKTION>und</KONJUNKTION>\n",
      "      <PHRASE case=\"Dativ\">\n",
      "        <PRONOMEN person=\"2\">dir</PRONOMEN>\n",
      "      </PHRASE>\n",
      "    </KOORDINATION>\n",
      "  </ADVERBIALE>\n",
      "  <PRÄDIKAT verb=\"laufen\">\n",
      "    <VERB verb=\"laufen\">\n",
      "      <FINITUM move=\"Verbzweit\"/>\n",
      "    </VERB>\n",
      "  </PRÄDIKAT>\n",
      "</SATZ>\n"
     ]
    }
   ],
   "source": [
    "s = Satz()\n",
    "Verb(s, 'laufen')\n",
    "\n",
    "v = Phrase(s, 'Laufende')\n",
    "Referent(v, 'Vater')\n",
    "Vorfeld(v)\n",
    "\n",
    "mit = Phrase(s, 'mit')\n",
    "\n",
    "p = Phrase(mit)\n",
    "Referent(p, '1')\n",
    "k = Koordination(p)\n",
    "q = Phrase(k)\n",
    "Referent(q, '2')\n",
    "\n",
    "Satzende(s)\n",
    "\n",
    "showresult(s)"
   ]
  },
  {
   "cell_type": "code",
   "execution_count": null,
   "metadata": {},
   "outputs": [],
   "source": [
    "s = \"\"\"\n",
    "glauben (Präsens)\n",
    "  Glaubende: Karl (Generisch + Vorfeld + Markierung: X)\n",
    "  Geglaubte: schlagen (Modalverb: dürfen + Infinit)\n",
    "    Geschlagene: Frau (Possessiv: 3ms + Markierung: Y)\n",
    "      betrügen (Infinit)\n",
    "        Betrogene: X\n",
    "\n",
    "schlafen (Perfekt + Präsens)\n",
    "  Schlafende: Mann (Definit + Vorfeld + Markierung: Z)\n",
    "    malen (Perfekt + Präsens)\n",
    "      von: Frau (Relator)\n",
    "      Malende: Maria (Generisch)\n",
    "      Gemalte: Bild (Indefinit)\n",
    "        kennen (Präsens + Frei)\n",
    "          Kennende: Y\n",
    "          Gekannte: - (Relator)\n",
    "  bei: Z\n",
    "    in: Bett\n",
    "\n",
    "stellen (Präsens + Perfekt)\n",
    "  Stellende: X (Vorfeld)\n",
    "  Gestellte: \n",
    "    Neutrum: schenken (Rezipientenpassiv + Perfekt + Präsens)\n",
    "      Rezipient: X\n",
    "      Geschenkte: - (Relator)\n",
    "  bei: X\n",
    "    in: Schrank\n",
    "  sofort (Vorwärts)\n",
    "\"\"\"\n",
    "#print(Syntax(s))"
   ]
  }
 ],
 "metadata": {
  "kernelspec": {
   "display_name": "Python 3.9.7 64-bit",
   "language": "python",
   "name": "python3"
  },
  "language_info": {
   "codemirror_mode": {
    "name": "ipython",
    "version": 3
   },
   "file_extension": ".py",
   "mimetype": "text/x-python",
   "name": "python",
   "nbconvert_exporter": "python",
   "pygments_lexer": "ipython3",
   "version": "3.9.7"
  },
  "orig_nbformat": 4,
  "vscode": {
   "interpreter": {
    "hash": "aee8b7b246df8f9039afb4144a1f6fd8d2ca17a180786b69acc140d282b71a49"
   }
  }
 },
 "nbformat": 4,
 "nbformat_minor": 2
}
