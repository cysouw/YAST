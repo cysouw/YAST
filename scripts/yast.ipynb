{
 "cells": [
  {
   "cell_type": "code",
   "execution_count": 1,
   "metadata": {},
   "outputs": [],
   "source": [
    "%load_ext autoreload\n",
    "%autoreload 2\n",
    "from yast import *\n",
    "from lexicon import *"
   ]
  },
  {
   "cell_type": "code",
   "execution_count": 2,
   "metadata": {},
   "outputs": [
    {
     "name": "stdout",
     "output_type": "stream",
     "text": [
      "Gelaufen haben werde ich.\n",
      "Laufen tue ich gerne.\n"
     ]
    }
   ],
   "source": [
    "reset()\n",
    "s = \"\"\"\n",
    "laufen (Perfekt + werden + Vorn)\n",
    "  Laufende: 1\n",
    "\n",
    "laufen (Vorn)\n",
    "  Laufende: 1\n",
    "  gerne\n",
    "\"\"\"\n",
    "Syntax(s)"
   ]
  },
  {
   "cell_type": "code",
   "execution_count": 3,
   "metadata": {},
   "outputs": [
    {
     "name": "stdout",
     "output_type": "stream",
     "text": [
      "Sehr klein bin ich.\n",
      "Ich bin in dem Haus in der Natur gewesen.\n",
      "Väter die ich sehen kann hat es immer gegeben.\n",
      "Es gibt keinen Grund für dein Lächeln.\n"
     ]
    }
   ],
   "source": [
    "reset()\n",
    "s = \"\"\"\n",
    "klein (sein + Vorn + Grad: sehr)\n",
    "  Subjekt: 1\n",
    "\n",
    "in (sein + Perfekt)\n",
    "  Subjekt: 1\n",
    "  Ort: Haus (Definit)\n",
    "    in: Natur (Definit)\n",
    "\n",
    "Vater (geben + Vorn + Plural + Perfekt)\n",
    "  sehen (können)\n",
    "    Gesehene: Vater\n",
    "    Sehende: 1\n",
    "  immer\n",
    "\n",
    "Grund (geben + Thetisch + kein)\n",
    "  für: Lächeln (Besitzer: 2)\n",
    "\"\"\"\n",
    "Syntax(s)"
   ]
  },
  {
   "cell_type": "code",
   "execution_count": 4,
   "metadata": {},
   "outputs": [
    {
     "name": "stdout",
     "output_type": "stream",
     "text": [
      "Klein bin ich.\n",
      "Ich sehe dass ihr klein gewesen seit.\n",
      "Ich muss dein Vater gewesen sein.\n",
      "Wessen Mutter bist du?\n"
     ]
    }
   ],
   "source": [
    "reset()\n",
    "s = \"\"\"\n",
    "klein (sein + Vorn )\n",
    "  Subjekt: 1\n",
    "\n",
    "sehen\n",
    "  Sehende: 1\n",
    "  Gesehene: klein (sein + Plural + Perfekt)\n",
    "    Subjekt: 2p\n",
    "\n",
    "Vater (sein + Besitzer: 2 + Perfekt + müssen)\n",
    "  Subjekt: 1\n",
    "\n",
    "Mutter (sein + Vorn + Besitzer + Frage)\n",
    "  Subjekt: 2\n",
    "\"\"\"\n",
    "Syntax(s)"
   ]
  },
  {
   "cell_type": "code",
   "execution_count": 5,
   "metadata": {},
   "outputs": [
    {
     "name": "stdout",
     "output_type": "stream",
     "text": [
      "Der sehr schnelle und sehr langsame Mann läuft dafür ob er schläft.\n"
     ]
    }
   ],
   "source": [
    "reset()\n",
    "s = \"\"\"\n",
    "laufen\n",
    "  Laufende: Mann (Definit)\n",
    "    schnell (Grad: sehr)\n",
    "      und: langsam (Grad: sehr)\n",
    "  für: schlafen (Unbestimmt)\n",
    "    Schlafende: Mann\n",
    "\"\"\"\n",
    "Syntax(s)"
   ]
  },
  {
   "cell_type": "code",
   "execution_count": 6,
   "metadata": {},
   "outputs": [
    {
     "name": "stdout",
     "output_type": "stream",
     "text": [
      "Solange der Gläubiger sich noch durch die nachgeholte Leistung in Natur gegebenenfalls ergänzt durch den Ersatz von Verzögerungsschäden und sonstige Schäden vollständig in die Lage versetzen lässt in der er sich bei pflichtgemäßer Leistung befände und die Leistung für den Schuldner weniger kostspielig ist als die Zahlung von Schadenersatz statt der Leistung gibt es keinen Grund um dem Gläubiger von vornherein die Entscheidung zwischen Erfüllung in Natur und Schadenersatz zu überlassen und ihm zu erlauben dem Schuldner durch die Wahl des Schadenersatzes den Kostenvorteil der Leistungserbringung zu nehmen.\n"
     ]
    }
   ],
   "source": [
    "reset()\n",
    "s = \"\"\"\n",
    "  solange: versetzen (Permissivpassiv)\n",
    "    Versetzte: Gläubiger (Definit)\n",
    "    noch\n",
    "    durch: Leistung (Definit)\n",
    "      nachholen (Zustandspassiv + Infinit)\n",
    "      in: Natur\n",
    "    gegebenenfalls\n",
    "    ergänzen (Zustandspassiv + Infinit + Vorn)\n",
    "      durch: Ersatz (Definit)\n",
    "        von: Verzögerungsschaden (Plural)\n",
    "        und: Schaden (Plural)\n",
    "          sonstig\n",
    "    vollständig\n",
    "    in: Lage (Definit + Bewegung)\n",
    "    befinden (Irrealis)\n",
    "      in: Lage\n",
    "      Befindende: Gläubiger\n",
    "      bei: Leistung (Voll)\n",
    "        pflichtgemäß\n",
    "    und: kostspielig (sein + Grad: weniger)\n",
    "      Subjekt: Leistung (Definit + Voll)\n",
    "        für: Schuldner (Definit)\n",
    "      als: Zahlung (Definit)\n",
    "        von: Schadenersatz\n",
    "        statt: Leistung (Definit + Voll)\n",
    "Grund (geben + kein)\n",
    "  um: überlassen (Infinit)\n",
    "    Rezipient: Gläubiger (Definit + Voll)\n",
    "    von vornherein\n",
    "    Überlassene: Entscheidung (Definit)\n",
    "      zwischen: Erfüllung\n",
    "        in: Natur (Voll)\n",
    "        und: Schadenersatz (Voll)\n",
    "    und: erlauben (Infinit)\n",
    "      Rezipient: Gläubiger (Definit)\n",
    "      Erlaubte: nehmen (Infinit)\n",
    "        Rezipient: Schuldner (Definit + Voll)\n",
    "        durch: Wahl (Definit)\n",
    "          Schadenersatz (Definit + Voll)\n",
    "        Genommene: Kostenvorteil (Definit)\n",
    "          Leistungserbringung (Definit)\n",
    "\"\"\"\n",
    "Syntax(s)"
   ]
  },
  {
   "cell_type": "code",
   "execution_count": 7,
   "metadata": {},
   "outputs": [
    {
     "name": "stdout",
     "output_type": "stream",
     "text": [
      "Ich laufe auf Grund von Ängsten.\n",
      "Ich laufe aufgrund Ängste.\n",
      "Ich habe gelaufen aufgrund dessen dass ich dich kenne.\n",
      "Ich habe dafür gelaufen dass ich dich endlich wieder sehen kann.\n"
     ]
    }
   ],
   "source": [
    "reset()\n",
    "s = \"\"\"\n",
    "laufen\n",
    "  Laufende: 1\n",
    "  auf: Grund\n",
    "    von: Angst (Plural)\n",
    "\n",
    "laufen\n",
    "  Laufende: 1\n",
    "  aufgrund: Angst (Plural + Voll)\n",
    "\n",
    "laufen (Perfekt)\n",
    "  Laufende: 1\n",
    "  aufgrund: kennen\n",
    "      Kennende: 1\n",
    "      Gekannte: 2\n",
    "\n",
    "laufen (Perfekt)\n",
    "  Laufende: 1\n",
    "  für: sehen (können)\n",
    "    Sehende: 1\n",
    "    Gesehene: 2\n",
    "    endlich\n",
    "    wieder\n",
    "\"\"\"\n",
    "Syntax(s)"
   ]
  },
  {
   "cell_type": "code",
   "execution_count": 8,
   "metadata": {},
   "outputs": [
    {
     "name": "stdout",
     "output_type": "stream",
     "text": [
      "Womit hast du gesehen?\n",
      "Womit du läufst ist falsch.\n"
     ]
    }
   ],
   "source": [
    "reset()\n",
    "s = \"\"\"\n",
    "sehen (Perfekt + Frage)\n",
    "  mit: 0\n",
    "  Sehende: 2\n",
    "\n",
    "falsch (sein)\n",
    "  Subjekt: laufen (Frage)\n",
    "    mit: 0\n",
    "    Laufende: 2\n",
    "\"\"\"\n",
    "Syntax(s)"
   ]
  },
  {
   "cell_type": "code",
   "execution_count": 9,
   "metadata": {},
   "outputs": [
    {
     "name": "stdout",
     "output_type": "stream",
     "text": [
      "Der Mann häte auf das Geschenk über das du dich freust gehofft.\n",
      "Ich habe darauf gewartet dass darüber du dich freust.\n",
      "Ich habe auf das Geschenk seit drei Tagen gewartet worüber du dich wunderst.\n",
      "Ich sehe das was du siehst.\n"
     ]
    }
   ],
   "source": [
    "reset()\n",
    "\n",
    "s = \"\"\"\n",
    "hoffen (Perfekt + Irrealis)\n",
    "  Hoffende: Mann (Definit)\n",
    "  Gehoffte: Geschenk (Definit)\n",
    "    freuen (ReflexivErlebniskonversiv + Präsens)\n",
    "      Auslöser: Geschenk\n",
    "      Freuende: 2\n",
    "\n",
    "warten (Perfekt)\n",
    "  Wartende: 1\n",
    "  Bewartete: freuen (ReflexivErlebniskonversiv)\n",
    "    Auslöser: Geschenk (Definit)\n",
    "    Freuende: 2\n",
    "\n",
    "warten (Perfekt)\n",
    "  Wartende: 1\n",
    "  Bewartete: Geschenk (Definit + Voll)\n",
    "  seit: Tag (Plural + Numerale: drei)\n",
    "  wundern (ReflexivErlebniskonversiv)\n",
    "    Auslöser: e\n",
    "    Verwunderte: 2\n",
    "\n",
    "sehen\n",
    "  Sehende: 1\n",
    "  Gesehene: n (Demonstrativ)\n",
    "    sehen\n",
    "      Gesehene: n\n",
    "      Sehende: 2\n",
    "\"\"\"\n",
    "Syntax(s)"
   ]
  },
  {
   "cell_type": "code",
   "execution_count": 10,
   "metadata": {},
   "outputs": [
    {
     "name": "stdout",
     "output_type": "stream",
     "text": [
      "Die Grundlage anhand deren wir den Beschluss nehmen ist falsch.\n"
     ]
    }
   ],
   "source": [
    "reset()\n",
    "s = \"\"\"\n",
    "falsch (sein)\n",
    "  Subjekt: Grundlage (Definit)\n",
    "    nehmen\n",
    "      anhand: Grundlage\n",
    "      Nehmende: 1p\n",
    "      Genommene: Beschluss (Definit)\n",
    "\"\"\"\n",
    "Syntax(s)"
   ]
  },
  {
   "cell_type": "code",
   "execution_count": 11,
   "metadata": {},
   "outputs": [
    {
     "name": "stdout",
     "output_type": "stream",
     "text": [
      "Ich freue mich über das Lächeln das auf deinem Gesicht zu sehen ist.\n"
     ]
    }
   ],
   "source": [
    "reset()\n",
    "s = \"\"\"\n",
    "freuen (ReflexivErlebniskonversiv)\n",
    "  Freuende: 1\n",
    "  Auslöser: Lächeln (Definit)\n",
    "    sehen (Modalpassiv + Frage)\n",
    "      Gesehene: Lächeln (Indefinit)\n",
    "      auf: Gesicht (Besitzer: 2)\n",
    "\"\"\"\n",
    "Syntax(s)"
   ]
  },
  {
   "cell_type": "code",
   "execution_count": 12,
   "metadata": {},
   "outputs": [
    {
     "name": "stdout",
     "output_type": "stream",
     "text": [
      "Mit kaputten Schuhen haben die kleinen Männer laufen müssen.\n"
     ]
    }
   ],
   "source": [
    "reset()\n",
    "s = \"\"\"\n",
    "  mit: Schuh (Plural)\n",
    "    kaputt\n",
    "laufen (müssen + Perfekt)\n",
    "  Laufende: Mann (Plural + Definit)\n",
    "    klein\n",
    "\"\"\"\n",
    "Syntax(s)\n",
    "\n",
    "#tmp = re.split('\\n', s)\n",
    "#tmp = list(filter(None, tmp))\n",
    "#print(level(tmp))\n",
    "#print(reference(tmp))\n"
   ]
  },
  {
   "cell_type": "code",
   "execution_count": 13,
   "metadata": {},
   "outputs": [
    {
     "name": "stdout",
     "output_type": "stream",
     "text": [
      "Karl glaubt seine den betrügende Frau schlagen zu dürfen.\n",
      "Er hat was er geschenkt bekommen hat sofort in den Schrank gestellt.\n",
      "Der Mann von dessen Frau ein Bild Maria gemalt hat das ich kenne schläft.\n"
     ]
    }
   ],
   "source": [
    "# Karl glaubt seine ihn betrügende Frau schlagen zu dürfen.\n",
    "# Der Mann, von dessen Frau Maria ein Bild gemalt hat, das ich kenne, schläft.\n",
    "# Er hat, was er geschenkt bekommen hat, sofort in den Schrank gestellt.\n",
    "\n",
    "reset()\n",
    "s = \"\"\"\n",
    "glauben\n",
    "  Glaubende: Karl\n",
    "  Geglaubte: schlagen (dürfen + Infinit)\n",
    "    Geschlagene: Frau (Besitzer: Karl)\n",
    "      betrügen (Infinit)\n",
    "        Betrogene: Karl\n",
    "\n",
    "stellen (Perfekt)\n",
    "  Stellende: Karl\n",
    "  Gestellte: n\n",
    "    schenken (Rezipientenpassiv + Perfekt)\n",
    "      Geschenkte: n\n",
    "      Rezipient: Karl\n",
    "  sofort\n",
    "  in: Schrank (Definit + Bewegung)\n",
    "\n",
    "schlafen\n",
    "  Schlafende: Mann (Definit)\n",
    "    malen (Perfekt)\n",
    "      von: Frau (Besitzer: Mann + Voll)\n",
    "      Gemalte: Bild (Indefinit)\n",
    "      Malende: Maria\n",
    "      kennen\n",
    "        Gekannte: Bild\n",
    "        Kennende: 1\n",
    "\"\"\"\n",
    "Syntax(s)"
   ]
  },
  {
   "cell_type": "code",
   "execution_count": 14,
   "metadata": {},
   "outputs": [
    {
     "name": "stdout",
     "output_type": "stream",
     "text": [
      "Ich habe die Männer gestern gesehen mit denen du immer läufst.\n",
      "Ich habe die Frauen mit denen du immer läufst gestern gesehen.\n",
      "Die Männer deren kleines Kind schläft habe ich gesehen.\n",
      "Ich habe dein Haus gesehen.\n",
      "Du hast gestern daran gearbeitet.\n"
     ]
    }
   ],
   "source": [
    "reset()\n",
    "\n",
    "s = \"\"\"\n",
    "sehen (Perfekt)\n",
    "  Sehende: 1\n",
    "  Gesehene: Mann (Definit + Plural)\n",
    "  gestern\n",
    "  laufen\n",
    "    mit: Mann\n",
    "    Laufende: 2\n",
    "    immer\n",
    "\n",
    "sehen (Perfekt)\n",
    "  Sehende: 1\n",
    "  Gesehene: Frau (Definit + Plural)\n",
    "    laufen\n",
    "      mit: Frau\n",
    "      Laufende: 2\n",
    "      immer\n",
    "  gestern\n",
    "\n",
    "sehen (Perfekt)\n",
    "  Gesehene: Mann (Definit + Voll)\n",
    "    schlafen\n",
    "      Schlafende: Kind (Besitzer: Mann)\n",
    "        klein\n",
    "  Sehende: 1\n",
    "\n",
    "sehen (Perfekt)\n",
    "  Sehende: 1\n",
    "  Gesehene: Haus (Definit + Besitzer: 2)\n",
    "\n",
    "arbeiten (Perfekt)\n",
    "  Arbeitende: 2\n",
    "  gestern\n",
    "  an: Haus\n",
    "\"\"\"\n",
    "\n",
    "Syntax(s)"
   ]
  },
  {
   "cell_type": "code",
   "execution_count": 15,
   "metadata": {},
   "outputs": [],
   "source": [
    "#sein (Frage)\n",
    "#  Subjekt: Buch (Definit + Besitzer)\n",
    "#  Prädikat: n (Demonstrativ)\n",
    "\n",
    "\n",
    "\n"
   ]
  },
  {
   "cell_type": "code",
   "execution_count": 16,
   "metadata": {},
   "outputs": [
    {
     "name": "stdout",
     "output_type": "stream",
     "text": [
      "Wie groß bist du?\n",
      "Wie viele große Kinder hast du?\n",
      "Mit welchen Ängsten hast du gestern schlecht geschlafen?\n"
     ]
    }
   ],
   "source": [
    "reset()\n",
    "\n",
    "s = \"\"\"\n",
    "groß (sein + Frage + Vorn + Grad: sehr)\n",
    "  Subjekt: 2\n",
    "\n",
    "haben (Frage)\n",
    "  Gehabte: Kind (Plural + Quantor)\n",
    "    groß\n",
    "  Habende: 2\n",
    "\n",
    "schlafen (Perfekt + Frage)\n",
    "  mit: Angst (Plural + Indefinit)\n",
    "  Schlafende: 2\n",
    "  gestern\n",
    "  schlecht\n",
    "\"\"\"\n",
    "\n",
    "Syntax(s)"
   ]
  },
  {
   "cell_type": "code",
   "execution_count": 17,
   "metadata": {},
   "outputs": [
    {
     "name": "stdout",
     "output_type": "stream",
     "text": [
      "Warum hast du nicht gesehen wem etwas jemand schenkt?\n"
     ]
    }
   ],
   "source": [
    "reset()\n",
    "\n",
    "s = \"\"\"\n",
    "sehen (Perfekt + Frage)\n",
    "  warum\n",
    "  Sehende: 2\n",
    "  Gesehene: schenken (Frage)\n",
    "    Rezipient: 0b\n",
    "    Geschenkte: 0\n",
    "    Schenkende: 0 (Belebt)\n",
    "  nicht\n",
    "\"\"\"\n",
    "\n",
    "Syntax(s)"
   ]
  },
  {
   "cell_type": "code",
   "execution_count": 18,
   "metadata": {},
   "outputs": [
    {
     "name": "stdout",
     "output_type": "stream",
     "text": [
      "Gestern hatte ich darauf gehofft gut zu schlafen ohne dauernd pinkeln zu müssen.\n",
      "=====\n",
      "<SATZ kind=\"Hauptsatz\">\n",
      "  <VORFELD>\n",
      "    <ADVERBIALE>\n",
      "      <ADVERB>gestern</ADVERB>\n",
      "    </ADVERBIALE>\n",
      "  </VORFELD>\n",
      "  <VERBZWEIT>\n",
      "    <FINITUM verb=\"haben\" tense=\"Präteritum\" person=\"1\" number=\"Singular\">hatte</FINITUM>\n",
      "  </VERBZWEIT>\n",
      "  <ARGUMENT role=\"Hoffende\" case=\"Nominativ\">\n",
      "    <PHRASE case=\"Nominativ\">\n",
      "      <PRONOMEN person=\"1\" number=\"Singular\">ich</PRONOMEN>\n",
      "    </PHRASE>\n",
      "  </ARGUMENT>\n",
      "  <KORRELAT role=\"Gehoffte\">darauf</KORRELAT>\n",
      "  <PRÄDIKAT>\n",
      "    <PERFEKT verb=\"haben\">\n",
      "      <VERB verb=\"hoffen\">\n",
      "        <PARTIZIP>gehofft</PARTIZIP>\n",
      "      </VERB>\n",
      "      <FINITUM move=\"Verbzweit\"/>\n",
      "    </PERFEKT>\n",
      "  </PRÄDIKAT>\n",
      "  <ARGUMENT role=\"Gehoffte\" case=\"auf\">\n",
      "    <SATZ kind=\"Komplementsatz\">\n",
      "      <VORFELD>\n",
      "        <ADVERBIALE>\n",
      "          <ADJEKTIV>gut</ADJEKTIV>\n",
      "        </ADVERBIALE>\n",
      "      </VORFELD>\n",
      "      <PRÄDIKAT>\n",
      "        <VERB verb=\"schlafen\">\n",
      "          <ZU-INFINITIV>zu schlafen</ZU-INFINITIV>\n",
      "        </VERB>\n",
      "      </PRÄDIKAT>\n",
      "    </SATZ>\n",
      "  </ARGUMENT>\n",
      "  <ADVERBIALE>\n",
      "    <JUNKTOR>ohne</JUNKTOR>\n",
      "    <SATZ kind=\"Präpositionssatz\">\n",
      "      <VORFELD>\n",
      "        <ADVERBIALE>\n",
      "          <ADVERB>dauernd</ADVERB>\n",
      "        </ADVERBIALE>\n",
      "      </VORFELD>\n",
      "      <PRÄDIKAT>\n",
      "        <MODALVERB verb=\"müssen\">\n",
      "          <VERB verb=\"pinkeln\">\n",
      "            <INFINITIV>pinkeln</INFINITIV>\n",
      "          </VERB>\n",
      "          <ZU-INFINITIV>zu müssen</ZU-INFINITIV>\n",
      "        </MODALVERB>\n",
      "      </PRÄDIKAT>\n",
      "    </SATZ>\n",
      "  </ADVERBIALE>\n",
      "</SATZ>\n",
      "\n"
     ]
    }
   ],
   "source": [
    "reset()\n",
    "s = \"\"\"\n",
    "hoffen (Perfekt + Präteritum)\n",
    "  gestern\n",
    "  Hoffende: 1\n",
    "  Gehoffte: schlafen (Infinit)\n",
    "    gut\n",
    "  ohne: pinkeln (müssen + Infinit)\n",
    "    dauernd\n",
    "\"\"\"\n",
    "Syntax(s, xml = True)"
   ]
  },
  {
   "cell_type": "code",
   "execution_count": 19,
   "metadata": {},
   "outputs": [
    {
     "name": "stdout",
     "output_type": "stream",
     "text": [
      "Die wartende Eingeschlafene hat gestern sehend gelaufen.\n"
     ]
    }
   ],
   "source": [
    "reset()\n",
    "s = \"\"\"\n",
    "laufen (Perfekt)\n",
    "  Laufende: f (Definit)\n",
    "    einschlafen (Perfekt + Infinit)\n",
    "    warten (Infinit)\n",
    "  gestern\n",
    "  sehen (Infinit)\n",
    "\"\"\"\n",
    "Syntax(s)"
   ]
  },
  {
   "cell_type": "code",
   "execution_count": 20,
   "metadata": {},
   "outputs": [
    {
     "name": "stdout",
     "output_type": "stream",
     "text": [
      "Vor drei Tagen sind jene alten Männer des Kindes von sich selbst in unseren Autos gesehen worden.\n"
     ]
    }
   ],
   "source": [
    "reset()\n",
    "#add('Mann')\n",
    "s = \"\"\"\n",
    "sehen (Vorgangspassiv + Perfekt)\n",
    "  vor: Tag (Plural + Numerale: drei)\n",
    "  Gesehene: Mann (Plural + jen)\n",
    "    alt\n",
    "    Kind (Definit)\n",
    "  Sehende: Mann\n",
    "    selbst\n",
    "  in: Auto (Plural + Besitzer: 1p)\n",
    "\"\"\"\n",
    "Syntax(s)"
   ]
  },
  {
   "cell_type": "code",
   "execution_count": 21,
   "metadata": {},
   "outputs": [
    {
     "name": "stdout",
     "output_type": "stream",
     "text": [
      "Gestern laufen ich du und das Kind mit dem alten und schwachen Vater aber ohne die Mutter und wir schlafen.\n"
     ]
    }
   ],
   "source": [
    "reset()\n",
    "s = \"\"\"\n",
    "  gestern\n",
    "laufen\n",
    "  Laufende: 1\n",
    "    : 2\n",
    "    und: Kind (Definit)\n",
    "  mit: Vater (Definit)\n",
    "    alt\n",
    "      und: schwach\n",
    "    aber:\n",
    "      ohne: Mutter (Definit)\n",
    "  und: schlafen\n",
    "    Schlafende: 1p\n",
    "\"\"\"\n",
    "Syntax(s)"
   ]
  },
  {
   "cell_type": "code",
   "execution_count": 22,
   "metadata": {},
   "outputs": [
    {
     "name": "stdout",
     "output_type": "stream",
     "text": [
      "Ich laufe und ich habe geschlafen.\n"
     ]
    }
   ],
   "source": [
    "reset()\n",
    "s = \"\"\"\n",
    "laufen\n",
    "  Laufende: 1\n",
    "  und: schlafen (Perfekt)\n",
    "    Schlafende: 1\n",
    "\"\"\"\n",
    "Syntax(s)"
   ]
  },
  {
   "cell_type": "code",
   "execution_count": 23,
   "metadata": {},
   "outputs": [
    {
     "name": "stdout",
     "output_type": "stream",
     "text": [
      "Ich laufe weil ich geschlafen habe aber ohne dass ich sehen kann.\n",
      "Ich laufe weil ich geschlafen habe und ich sehen kann.\n",
      "Der Vater ohne das Kind aber mit dem Haus läuft.\n",
      "Der Vater ohne Kind oder Haus läuft.\n"
     ]
    }
   ],
   "source": [
    "reset()\n",
    "s = \"\"\"\n",
    "laufen\n",
    "  Laufende: 1\n",
    "  weil: schlafen (Perfekt)\n",
    "    Schlafende: 1\n",
    "    aber:\n",
    "      ohne: sehen (können)\n",
    "        Sehende: 1\n",
    "\n",
    "laufen\n",
    "  Laufende: 1\n",
    "  weil: schlafen (Perfekt)\n",
    "    Schlafende: 1\n",
    "    und: sehen (können)\n",
    "        Sehende: 1\n",
    "\n",
    "laufen\n",
    "  Laufende: Vater (Definit)\n",
    "    ohne: Kind (Definit)\n",
    "      aber: \n",
    "        mit: Haus (Definit)\n",
    "\n",
    "laufen\n",
    "  Laufende: Vater (Definit + Voll)\n",
    "    ohne: Kind (Voll)\n",
    "      oder: Haus (Voll)\n",
    "\"\"\"\n",
    "Syntax(s)"
   ]
  },
  {
   "cell_type": "code",
   "execution_count": 24,
   "metadata": {},
   "outputs": [
    {
     "name": "stdout",
     "output_type": "stream",
     "text": [
      "Ich sehe den sehr fest schlafenden und mega laut schnarchenden Mann.\n"
     ]
    }
   ],
   "source": [
    "reset()\n",
    "s = \"\"\"\n",
    "sehen\n",
    "  Sehende: 1\n",
    "  Gesehene: Mann (Definit)\n",
    "    schlafen (Infinit)\n",
    "      fest (Grad: sehr)\n",
    "      und: schnarchen\n",
    "        laut (Grad: mega)\n",
    "\"\"\"\n",
    "Syntax(s)"
   ]
  },
  {
   "cell_type": "code",
   "execution_count": null,
   "metadata": {},
   "outputs": [],
   "source": []
  }
 ],
 "metadata": {
  "kernelspec": {
   "display_name": "Python 3.9.7 64-bit",
   "language": "python",
   "name": "python3"
  },
  "language_info": {
   "codemirror_mode": {
    "name": "ipython",
    "version": 3
   },
   "file_extension": ".py",
   "mimetype": "text/x-python",
   "name": "python",
   "nbconvert_exporter": "python",
   "pygments_lexer": "ipython3",
   "version": "3.9.7"
  },
  "orig_nbformat": 4,
  "vscode": {
   "interpreter": {
    "hash": "aee8b7b246df8f9039afb4144a1f6fd8d2ca17a180786b69acc140d282b71a49"
   }
  }
 },
 "nbformat": 4,
 "nbformat_minor": 2
}
