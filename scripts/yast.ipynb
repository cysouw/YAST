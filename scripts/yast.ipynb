{
 "cells": [
  {
   "cell_type": "code",
   "execution_count": 1,
   "metadata": {},
   "outputs": [],
   "source": [
    "%load_ext autoreload\n",
    "%autoreload 2\n",
    "from yast import *\n",
    "from lexicon import *"
   ]
  },
  {
   "cell_type": "code",
   "execution_count": 2,
   "metadata": {},
   "outputs": [
    {
     "name": "stdout",
     "output_type": "stream",
     "text": [
      "Ich laufe auf Grund von Ängsten.\n",
      "Ich laufe aufgrund Ängste.\n",
      "Ich habe gelaufen aufgrund dessen dass ich dich kenne.\n",
      "Ich habe dafür gelaufen dass ich dich endlich wieder sehen kann.\n"
     ]
    }
   ],
   "source": [
    "reset()\n",
    "s = \"\"\"\n",
    "laufen\n",
    "  Laufende: 1\n",
    "  auf: Grund\n",
    "    von: Angst (Plural)\n",
    "\n",
    "laufen\n",
    "  Laufende: 1\n",
    "  aufgrund: Angst (Plural + Neu)\n",
    "\n",
    "laufen (Perfekt)\n",
    "  Laufende: 1\n",
    "  aufgrund: kennen\n",
    "      Gekannte: 2\n",
    "      Kennende: 1\n",
    "\n",
    "laufen (Perfekt)\n",
    "  Laufende: 1\n",
    "  für: sehen (können)\n",
    "    Sehende: 1\n",
    "    Gesehene: 2\n",
    "    endlich\n",
    "    wieder\n",
    "\"\"\"\n",
    "Syntax(s)"
   ]
  },
  {
   "cell_type": "code",
   "execution_count": 3,
   "metadata": {},
   "outputs": [
    {
     "name": "stdout",
     "output_type": "stream",
     "text": [
      "Womit hast du gesehen?\n",
      "Womit du läufst ist falsch.\n"
     ]
    }
   ],
   "source": [
    "reset()\n",
    "s = \"\"\"\n",
    "sehen (Perfekt + Frage)\n",
    "  mit: 0\n",
    "  Sehende: 2\n",
    "\n",
    "sein\n",
    "  Subjekt: laufen (Frage)\n",
    "    mit: 0\n",
    "    Laufende: 2\n",
    "  Prädikat: falsch\n",
    "\"\"\"\n",
    "Syntax(s)"
   ]
  },
  {
   "cell_type": "code",
   "execution_count": 4,
   "metadata": {},
   "outputs": [
    {
     "name": "stdout",
     "output_type": "stream",
     "text": [
      "Der Mann hätte auf das Geschenk über das du dich freust gehofft.\n",
      "Ich habe darauf gewartet dass du dich darüber freust.\n",
      "Ich habe auf das Geschenk seit drei Tagen gewartet worüber du dich wunderst.\n",
      "Ich sehe das was du siehst.\n"
     ]
    }
   ],
   "source": [
    "#reset()\n",
    "\n",
    "s = \"\"\"\n",
    "hoffen (Perfekt + Irrealis)\n",
    "  Hoffende: Mann (Definit)\n",
    "  Gehoffte: Geschenk (Definit)\n",
    "    freuen (ReflexivErlebniskonversiv + Präsens)\n",
    "      Auslöser: Geschenk\n",
    "      Freuende: 2\n",
    "\n",
    "warten (Perfekt)\n",
    "  Wartende: 1\n",
    "  Bewartete: freuen (ReflexivErlebniskonversiv)\n",
    "    Auslöser: Geschenk (Definit)\n",
    "    Freuende: 2\n",
    "\n",
    "warten (Perfekt)\n",
    "  Wartende: 1\n",
    "  Bewartete: Geschenk (Neu + Definit)\n",
    "  seit: Tag (Plural + Numerale: drei)\n",
    "  wundern (ReflexivErlebniskonversiv)\n",
    "    Auslöser: e\n",
    "    Verwunderte: 2\n",
    "\n",
    "sehen\n",
    "  Sehende: 1\n",
    "  Gesehene: n (Demonstrativ)\n",
    "    sehen\n",
    "      Gesehene: n\n",
    "      Sehende: 2\n",
    "\"\"\"\n",
    "Syntax(s)"
   ]
  },
  {
   "cell_type": "code",
   "execution_count": 5,
   "metadata": {},
   "outputs": [
    {
     "name": "stdout",
     "output_type": "stream",
     "text": [
      "Die Grundlage anhand deren wir den Beschluss nehmen ist falsch.\n"
     ]
    }
   ],
   "source": [
    "reset()\n",
    "s = \"\"\"\n",
    "sein\n",
    "  Subjekt: Grundlage (Definit)\n",
    "    nehmen\n",
    "      anhand: Grundlage\n",
    "      Nehmende: 1p\n",
    "      Genommene: Beschluss (Definit)\n",
    "  Prädikat: falsch\n",
    "\"\"\"\n",
    "Syntax(s)"
   ]
  },
  {
   "cell_type": "code",
   "execution_count": 6,
   "metadata": {},
   "outputs": [
    {
     "name": "stdout",
     "output_type": "stream",
     "text": [
      "Ich freue mich über das Lächeln das auf deinem Gesicht zu sehen ist.\n"
     ]
    }
   ],
   "source": [
    "reset()\n",
    "s = \"\"\"\n",
    "freuen (ReflexivErlebniskonversiv)\n",
    "  Freuende: 1\n",
    "  Auslöser: Lächeln (Definit)\n",
    "    sehen (Modalpassiv + Frage)\n",
    "      Gesehene: Lächeln (Indefinit)\n",
    "      auf: Gesicht (Besitzer: 2)\n",
    "\"\"\"\n",
    "Syntax(s)"
   ]
  },
  {
   "cell_type": "code",
   "execution_count": 7,
   "metadata": {},
   "outputs": [
    {
     "name": "stdout",
     "output_type": "stream",
     "text": [
      "Mit kaputten Schuhen haben die kleinen Männer laufen müssen.\n"
     ]
    }
   ],
   "source": [
    "reset()\n",
    "s = \"\"\"\n",
    "  mit: Schuh (Plural)\n",
    "    kaputt\n",
    "laufen (müssen + Perfekt)\n",
    "  Laufende: Mann (Plural + Definit)\n",
    "    klein\n",
    "\"\"\"\n",
    "Syntax(s)\n",
    "\n",
    "#tmp = re.split('\\n', s)\n",
    "#tmp = list(filter(None, tmp))\n",
    "#print(level(tmp))\n",
    "#print(reference(tmp))\n"
   ]
  },
  {
   "cell_type": "code",
   "execution_count": 8,
   "metadata": {},
   "outputs": [
    {
     "name": "stdout",
     "output_type": "stream",
     "text": [
      "Karl glaubt seine ihn betrügende Frau schlagen zu dürfen.\n",
      "Er hat was er geschenkt bekommen hat sofort in den Schrank gestellt.\n",
      "Der Mann von dessen Frau Maria ein Bild gemalt hat das ich kenne schläft.\n"
     ]
    }
   ],
   "source": [
    "# Karl glaubt seine ihn betrügende Frau schlagen zu dürfen.\n",
    "# Der Mann, von dessen Frau Maria ein Bild gemalt hat, das ich kenne, schläft.\n",
    "# Er hat, was er geschenkt bekommen hat, sofort in den Schrank gestellt.\n",
    "\n",
    "reset()\n",
    "s = \"\"\"\n",
    "glauben\n",
    "  Glaubende: Karl\n",
    "  Geglaubte: schlagen (dürfen + Infinit)\n",
    "    Geschlagene: Frau (Besitzer: Karl)\n",
    "      betrügen (Infinit)\n",
    "        Betrogene: Karl\n",
    "\n",
    "stellen (Perfekt)\n",
    "  Stellende: Karl\n",
    "  Gestellte: n\n",
    "    schenken (Rezipientenpassiv + Perfekt)\n",
    "      Geschenkte: n\n",
    "      Rezipient: Karl\n",
    "  sofort\n",
    "  in: Schrank (Definit + Bewegung)\n",
    "\n",
    "schlafen\n",
    "  Schlafende: Mann (Definit)\n",
    "    malen (Perfekt)\n",
    "      von: Frau (Besitzer: Mann + Neu)\n",
    "      Gemalte: Bild (Indefinit)\n",
    "      Malende: Maria\n",
    "      kennen\n",
    "        Gekannte: Bild\n",
    "        Kennende: 1\n",
    "\"\"\"\n",
    "Syntax(s)"
   ]
  },
  {
   "cell_type": "code",
   "execution_count": 9,
   "metadata": {},
   "outputs": [
    {
     "name": "stdout",
     "output_type": "stream",
     "text": [
      "Ich habe die Männer gestern gesehen mit denen du immer läufst.\n",
      "Ich habe die Frauen mit denen du immer läufst gestern gesehen.\n",
      "Die Männer deren kleines Kind schläft habe ich gesehen.\n",
      "Ich habe dein Haus gesehen.\n",
      "Du hast gestern daran gearbeitet.\n"
     ]
    }
   ],
   "source": [
    "reset()\n",
    "\n",
    "s = \"\"\"\n",
    "sehen (Perfekt)\n",
    "  Sehende: 1\n",
    "  Gesehene: Mann (Definit + Plural)\n",
    "  gestern\n",
    "  laufen\n",
    "    mit: Mann\n",
    "    Laufende: 2\n",
    "    immer\n",
    "\n",
    "sehen (Perfekt)\n",
    "  Sehende: 1\n",
    "  Gesehene: Frau (Definit + Plural)\n",
    "    laufen\n",
    "      mit: Frau\n",
    "      Laufende: 2\n",
    "      immer\n",
    "  gestern\n",
    "\n",
    "sehen (Perfekt)\n",
    "  Gesehene: Mann (Neu + Definit)\n",
    "    schlafen\n",
    "      Schlafende: Kind (Besitzer: Mann)\n",
    "        klein\n",
    "  Sehende: 1\n",
    "\n",
    "sehen (Perfekt)\n",
    "  Sehende: 1\n",
    "  Gesehene: Haus (Definit + Besitzer: 2)\n",
    "\n",
    "arbeiten (Perfekt)\n",
    "  Arbeitende: 2\n",
    "  gestern\n",
    "  an: Haus\n",
    "\"\"\"\n",
    "\n",
    "Syntax(s)"
   ]
  },
  {
   "cell_type": "code",
   "execution_count": 10,
   "metadata": {},
   "outputs": [
    {
     "name": "stdout",
     "output_type": "stream",
     "text": [
      "Wessen Buch ist das?\n",
      "Wie groß ist das Haus?\n",
      "Wie viele große Kinder hast du?\n",
      "Mit welchen Ängsten hast du gestern schlecht geschlafen?\n"
     ]
    }
   ],
   "source": [
    "reset()\n",
    "\n",
    "s = \"\"\"\n",
    "sein (Frage)\n",
    "  Subjekt: Buch (Definit + Besitzer)\n",
    "  Prädikat: n (Demonstrativ)\n",
    "\n",
    "sein (Frage)\n",
    "  Prädikat: groß (Grad: sehr)\n",
    "  Subjekt: Haus (Definit)\n",
    "\n",
    "haben (Frage)\n",
    "  Gehabte: Kind (Plural + Quantor)\n",
    "    groß\n",
    "  Habende: 2\n",
    "\n",
    "schlafen (Perfekt + Frage)\n",
    "  mit: Angst (Plural + Indefinit)\n",
    "  Schlafende: 2\n",
    "  gestern\n",
    "  schlecht\n",
    "\"\"\"\n",
    "\n",
    "Syntax(s)"
   ]
  },
  {
   "cell_type": "code",
   "execution_count": 11,
   "metadata": {},
   "outputs": [
    {
     "name": "stdout",
     "output_type": "stream",
     "text": [
      "Warum hast du nicht gesehen wem jemand etwas schenkt?\n"
     ]
    }
   ],
   "source": [
    "reset()\n",
    "\n",
    "s = \"\"\"\n",
    "sehen (Perfekt + Frage)\n",
    "  warum\n",
    "  Sehende: 2\n",
    "  Gesehene: schenken (Frage)\n",
    "    Rezipient: 0b\n",
    "    Geschenkte: 0\n",
    "    Schenkende: 0 (Belebt)\n",
    "  nicht\n",
    "\"\"\"\n",
    "\n",
    "Syntax(s)"
   ]
  },
  {
   "cell_type": "code",
   "execution_count": 12,
   "metadata": {},
   "outputs": [
    {
     "name": "stdout",
     "output_type": "stream",
     "text": [
      "Gestern hatte ich darauf gehofft gut zu schlafen ohne dauernd pinkeln zu müssen.\n"
     ]
    }
   ],
   "source": [
    "reset()\n",
    "s = \"\"\"\n",
    "hoffen (Perfekt + Präteritum)\n",
    "  gestern\n",
    "  Hoffende: 1\n",
    "  Gehoffte: schlafen (Infinit)\n",
    "    gut\n",
    "  ohne: pinkeln (müssen + Infinit)\n",
    "    dauern (Infinit)\n",
    "\"\"\"\n",
    "Syntax(s)"
   ]
  },
  {
   "cell_type": "code",
   "execution_count": 24,
   "metadata": {},
   "outputs": [
    {
     "name": "stdout",
     "output_type": "stream",
     "text": [
      "Die wartende Eingeschlafene hat gestern sehend gelaufen.\n"
     ]
    }
   ],
   "source": [
    "reset()\n",
    "s = \"\"\"\n",
    "laufen (Perfekt)\n",
    "  Laufende: f (Definit)\n",
    "    einschlafen (Perfekt + Infinit)\n",
    "    warten (Infinit)\n",
    "  gestern\n",
    "  sehen (Infinit)\n",
    "\"\"\"\n",
    "Syntax(s)"
   ]
  },
  {
   "cell_type": "code",
   "execution_count": 14,
   "metadata": {},
   "outputs": [
    {
     "name": "stdout",
     "output_type": "stream",
     "text": [
      "Vor drei Tagen sind jene alten Männer des Kindes von sich selbst in unseren Autos gesehen worden.\n"
     ]
    }
   ],
   "source": [
    "reset()\n",
    "#add('Mann')\n",
    "s = \"\"\"\n",
    "sehen (Vorgangspassiv + Perfekt)\n",
    "  vor: Tag (Plural + Numerale: drei)\n",
    "  Gesehene: Mann (Plural + jen)\n",
    "    alt\n",
    "    Kind (Definit)\n",
    "  Sehende: Mann\n",
    "    selbst\n",
    "  in: Auto (Plural + Besitzer: 1p)\n",
    "\"\"\"\n",
    "Syntax(s)"
   ]
  },
  {
   "cell_type": "code",
   "execution_count": 18,
   "metadata": {},
   "outputs": [
    {
     "name": "stdout",
     "output_type": "stream",
     "text": [
      "<?xml version=\"1.0\"?>\n",
      "<!--\n",
      "Vor mir läuft der Vater des Kindes.\n",
      "-->\n",
      "<SATZ kind=\"Hauptsatz\">\n",
      "  <VORFELD>\n",
      "    <ADVERBIALE>\n",
      "      <JUNKTOR>vor</JUNKTOR>\n",
      "      <PHRASE case=\"Dativ\">\n",
      "        <PRONOMEN person=\"1\" number=\"Singular\">mir</PRONOMEN>\n",
      "      </PHRASE>\n",
      "    </ADVERBIALE>\n",
      "  </VORFELD>\n",
      "  <VERBZWEIT>\n",
      "    <FINITUM verb=\"laufen\" tense=\"Präsens\" person=\"3\" number=\"Singular\">läuft</FINITUM>\n",
      "  </VERBZWEIT>\n",
      "  <ARGUMENT role=\"Laufende\" case=\"Nominativ\">\n",
      "    <PHRASE case=\"Nominativ\">\n",
      "      <DETERMINATIV>\n",
      "        <ARTIKEL>der</ARTIKEL>\n",
      "      </DETERMINATIV>\n",
      "      <REFERENT>Vater</REFERENT>\n",
      "      <ATTRIBUT>\n",
      "        <PHRASE case=\"Genitiv\">\n",
      "          <DETERMINATIV>\n",
      "            <ARTIKEL>des</ARTIKEL>\n",
      "          </DETERMINATIV>\n",
      "          <REFERENT>Kindes</REFERENT>\n",
      "        </PHRASE>\n",
      "      </ATTRIBUT>\n",
      "    </PHRASE>\n",
      "  </ARGUMENT>\n",
      "  <PRÄDIKAT>\n",
      "    <VERB verb=\"laufen\">\n",
      "      <FINITUM move=\"Verbzweit\"/>\n",
      "    </VERB>\n",
      "  </PRÄDIKAT>\n",
      "</SATZ>\n"
     ]
    }
   ],
   "source": [
    "reset()\n",
    "\n",
    "s = Start()\n",
    "p = Phrase(s, 'vor')\n",
    "Referent(p, '1')\n",
    "Verb(s, 'laufen')\n",
    "p = Phrase(s, 'Laufende')\n",
    "Referent(p, 'Vater')\n",
    "Definit(p)\n",
    "q = Phrase(p)\n",
    "Referent(q, 'Kind')\n",
    "Definit(q)\n",
    "Ende(s)\n",
    "\n",
    "showresult(s)"
   ]
  },
  {
   "cell_type": "code",
   "execution_count": 19,
   "metadata": {},
   "outputs": [
    {
     "name": "stdout",
     "output_type": "stream",
     "text": [
      "<?xml version=\"1.0\"?>\n",
      "<!--\n",
      "Vater und Mutter hat laufen müssen.\n",
      "-->\n",
      "<SATZ kind=\"Hauptsatz\" tense=\"Präsens\" verb=\"laufen\" cluster=\"Ersatzinfinitiv\" local=\"Vater,Mutter\" person=\"3\" number=\"Plural\" agreement=\"done\">\n",
      "  <VORFELD>\n",
      "    <ARGUMENT role=\"Laufende\" case=\"Nominativ\">\n",
      "      <KOORDINATION case=\"Nominativ\">\n",
      "        <PHRASE case=\"Nominativ\" gender=\"Maskulin\" declension=\"stark\" referent=\"Vater\">\n",
      "          <DETERMINATIV/>\n",
      "          <REFERENT>Vater</REFERENT>\n",
      "        </PHRASE>\n",
      "        <KONJUNKTION>und</KONJUNKTION>\n",
      "        <PHRASE case=\"Nominativ\" gender=\"Feminin\" declension=\"stark\" referent=\"Mutter\">\n",
      "          <DETERMINATIV/>\n",
      "          <REFERENT>Mutter</REFERENT>\n",
      "        </PHRASE>\n",
      "        <ATTRIBUT/>\n",
      "      </KOORDINATION>\n",
      "    </ARGUMENT>\n",
      "  </VORFELD>\n",
      "  <VERBZWEIT>\n",
      "    <FINITUM verb=\"haben\" tense=\"Präsens\" person=\"3\" number=\"Singular\">hat</FINITUM>\n",
      "  </VERBZWEIT>\n",
      "  <PRÄDIKAT>\n",
      "    <PERFEKT verb=\"haben\">\n",
      "      <MODALVERB verb=\"müssen\">\n",
      "        <VERB verb=\"laufen\">\n",
      "          <INFINITIV>laufen</INFINITIV>\n",
      "        </VERB>\n",
      "        <INFINITIV>müssen</INFINITIV>\n",
      "      </MODALVERB>\n",
      "      <FINITUM move=\"Verbzweit\"/>\n",
      "    </PERFEKT>\n",
      "  </PRÄDIKAT>\n",
      "</SATZ>\n"
     ]
    }
   ],
   "source": [
    "reset()\n",
    "\n",
    "s = Start()\n",
    "Verb(s, 'laufen')\n",
    "Modalverb(s, 'müssen')\n",
    "Perfekt(s)\n",
    "Präsens(s)\n",
    "\n",
    "# Coordination of arguments\n",
    "\n",
    "p = Phrase(s, 'Laufende')\n",
    "Referent(p, 'Vater')\n",
    "k = Koordination(p)\n",
    "q = Phrase(k)\n",
    "Referent(q, 'Mutter')\n",
    "\n",
    "Ende(s, False)\n",
    "showresult(s)"
   ]
  },
  {
   "cell_type": "code",
   "execution_count": 141,
   "metadata": {},
   "outputs": [
    {
     "name": "stdout",
     "output_type": "stream",
     "text": [
      "s = Start()\n",
      "s1 = Addendum(s, 'gestern')\n",
      "Koordination(s, 'und')\n",
      "Prädikat(s, 'laufen')\n",
      "s3 = Phrase(s, 'Laufende')\n",
      "Referent(s3, '1')\n",
      "s4 = Phrase(s, 'mit')\n",
      "Koordination(s4, 'und')\n",
      "Referent(s4, 'Vater')\n",
      "s5 = Addendum(s4, 'alt')\n",
      "Ende(s, True)\n",
      "\n"
     ]
    }
   ],
   "source": [
    "reset()\n",
    "s = \"\"\"\n",
    "  gestern\n",
    "laufen (und)\n",
    "  Laufende: 1\n",
    "  mit: Vater (und)\n",
    "      alt (und)\n",
    "        schwach\n",
    "    Mutter\n",
    "\"\"\"\n",
    "Syntax(s, code = True)"
   ]
  },
  {
   "cell_type": "code",
   "execution_count": 157,
   "metadata": {},
   "outputs": [
    {
     "name": "stdout",
     "output_type": "stream",
     "text": [
      "Ich und du laufe mit dem alten und schwachen Vater der jungen Mutter oder dem schnellen Kind.\n"
     ]
    }
   ],
   "source": [
    "reset()\n",
    "s = \"\"\"\n",
    "laufen\n",
    "  Laufende: 1\n",
    "    und:\n",
    "      2\n",
    "  mit: \n",
    "    Vater (Definit)\n",
    "      alt\n",
    "        und:\n",
    "          schwach\n",
    "      oder:\n",
    "        Mutter (Definit)\n",
    "          jung\n",
    "        Kind (Definit)\n",
    "          schnell\n",
    "\"\"\"\n",
    "Syntax(s)"
   ]
  },
  {
   "cell_type": "code",
   "execution_count": 151,
   "metadata": {},
   "outputs": [
    {
     "name": "stdout",
     "output_type": "stream",
     "text": [
      "Ich laufe und ich habe geschlafen.\n"
     ]
    }
   ],
   "source": [
    "reset()\n",
    "s = \"\"\"\n",
    "laufen\n",
    "  Laufende: 1\n",
    "  und:\n",
    "    schlafen (Perfekt)\n",
    "      Schlafende: 1\n",
    "\"\"\"\n",
    "Syntax(s)"
   ]
  },
  {
   "cell_type": "code",
   "execution_count": 155,
   "metadata": {},
   "outputs": [
    {
     "name": "stdout",
     "output_type": "stream",
     "text": [
      "s = Start()\n",
      "Prädikat(s, 'laufen')\n",
      "s2 = Phrase(s, 'Laufende')\n",
      "Referent(s2, '1')\n",
      "s3 = Phrase(s, 'weil')\n",
      "s4 = Satz(s3)\n",
      "Prädikat(s4, 'schlafen')\n",
      "Perfekt(s4)\n",
      "s5 = Phrase(s4, 'Schlafende')\n",
      "Referent(s5, '1')\n",
      "s6 = Koordination(s4, 'und')\n",
      "s7 = Satz(s6)\n",
      "Prädikat(s7, 'laufen')\n",
      "Perfekt(s7)\n",
      "s8 = Phrase(s7, 'Laufende')\n",
      "Referent(s8, '1')\n",
      "Ende(s, False)\n",
      "\n"
     ]
    }
   ],
   "source": [
    "reset()\n",
    "s = \"\"\"\n",
    "laufen\n",
    "  Laufende: 1\n",
    "  weil: \n",
    "    schlafen (Perfekt)\n",
    "      Schlafende: 1\n",
    "      und:\n",
    "        laufen (Perfekt)\n",
    "          Laufende: 1\n",
    "\"\"\"\n",
    "Syntax(s, code = True, details = True)"
   ]
  },
  {
   "cell_type": "code",
   "execution_count": 22,
   "metadata": {},
   "outputs": [
    {
     "name": "stdout",
     "output_type": "stream",
     "text": [
      "<?xml version=\"1.0\"?>\n",
      "<!--\n",
      "Der liebe und schwache Vater mit mir und ich ist mit mir und dir bei mir ohne dich und mit dir gestern heute und morgen gut böse und froh.\n",
      "-->\n",
      "<SATZ kind=\"Hauptsatz\">\n",
      "  <VORFELD>\n",
      "    <ARGUMENT role=\"Subjekt\" case=\"Nominativ\">\n",
      "      <KOORDINATION>\n",
      "        <PHRASE case=\"Nominativ\">\n",
      "          <DETERMINATIV>\n",
      "            <ARTIKEL>der</ARTIKEL>\n",
      "          </DETERMINATIV>\n",
      "          <KOORDINATION>\n",
      "            <ATTRIBUT>\n",
      "              <ADJEKTIV>liebe</ADJEKTIV>\n",
      "            </ATTRIBUT>\n",
      "            <KONJUNKTION>und</KONJUNKTION>\n",
      "            <ATTRIBUT>\n",
      "              <ADJEKTIV>schwache</ADJEKTIV>\n",
      "            </ATTRIBUT>\n",
      "          </KOORDINATION>\n",
      "          <REFERENT>Vater</REFERENT>\n",
      "          <ATTRIBUT>\n",
      "            <JUNKTOR>mit</JUNKTOR>\n",
      "            <PHRASE case=\"Dativ\">\n",
      "              <PRONOMEN person=\"1\" number=\"Singular\">mir</PRONOMEN>\n",
      "            </PHRASE>\n",
      "          </ATTRIBUT>\n",
      "        </PHRASE>\n",
      "        <KONJUNKTION>und</KONJUNKTION>\n",
      "        <PHRASE case=\"Nominativ\">\n",
      "          <PRONOMEN person=\"1\" number=\"Singular\">ich</PRONOMEN>\n",
      "        </PHRASE>\n",
      "        <ATTRIBUT/>\n",
      "      </KOORDINATION>\n",
      "    </ARGUMENT>\n",
      "  </VORFELD>\n",
      "  <VERBZWEIT>\n",
      "    <FINITUM verb=\"sein\" tense=\"Präsens\" person=\"3\" number=\"Singular\">ist</FINITUM>\n",
      "  </VERBZWEIT>\n",
      "  <ADVERBIALE>\n",
      "    <JUNKTOR>mit</JUNKTOR>\n",
      "    <KOORDINATION>\n",
      "      <PHRASE case=\"Dativ\">\n",
      "        <PRONOMEN person=\"1\" number=\"Singular\">mir</PRONOMEN>\n",
      "      </PHRASE>\n",
      "      <KONJUNKTION>und</KONJUNKTION>\n",
      "      <PHRASE case=\"Dativ\">\n",
      "        <PRONOMEN person=\"2\" number=\"Singular\">dir</PRONOMEN>\n",
      "      </PHRASE>\n",
      "      <ATTRIBUT/>\n",
      "    </KOORDINATION>\n",
      "  </ADVERBIALE>\n",
      "  <KOORDINATION>\n",
      "    <ADVERBIALE>\n",
      "      <JUNKTOR>bei</JUNKTOR>\n",
      "      <PHRASE case=\"Dativ\">\n",
      "        <PRONOMEN person=\"1\" number=\"Singular\">mir</PRONOMEN>\n",
      "      </PHRASE>\n",
      "    </ADVERBIALE>\n",
      "    <ADVERBIALE>\n",
      "      <JUNKTOR>ohne</JUNKTOR>\n",
      "      <PHRASE case=\"Akkusativ\">\n",
      "        <PRONOMEN person=\"2\" number=\"Singular\">dich</PRONOMEN>\n",
      "      </PHRASE>\n",
      "    </ADVERBIALE>\n",
      "    <KONJUNKTION>und</KONJUNKTION>\n",
      "    <ADVERBIALE>\n",
      "      <JUNKTOR>mit</JUNKTOR>\n",
      "      <PHRASE case=\"Dativ\">\n",
      "        <PRONOMEN person=\"2\" number=\"Singular\">dir</PRONOMEN>\n",
      "      </PHRASE>\n",
      "    </ADVERBIALE>\n",
      "  </KOORDINATION>\n",
      "  <KOORDINATION>\n",
      "    <ADVERBIALE>\n",
      "      <ADVERB>gestern</ADVERB>\n",
      "    </ADVERBIALE>\n",
      "    <ADVERBIALE>\n",
      "      <ADVERB>heute</ADVERB>\n",
      "    </ADVERBIALE>\n",
      "    <KONJUNKTION>und</KONJUNKTION>\n",
      "    <ADVERBIALE>\n",
      "      <ADVERB>morgen</ADVERB>\n",
      "    </ADVERBIALE>\n",
      "  </KOORDINATION>\n",
      "  <PRÄDIKATIV role=\"Prädikat\" case=\"Nominativ\">\n",
      "    <KOORDINATION>\n",
      "      <ADVERBIALE>\n",
      "        <ADJEKTIV>gut</ADJEKTIV>\n",
      "      </ADVERBIALE>\n",
      "      <ADVERBIALE>\n",
      "        <ADVERB>böse</ADVERB>\n",
      "      </ADVERBIALE>\n",
      "      <KONJUNKTION>und</KONJUNKTION>\n",
      "      <ADVERBIALE>\n",
      "        <ADJEKTIV>froh</ADJEKTIV>\n",
      "      </ADVERBIALE>\n",
      "    </KOORDINATION>\n",
      "  </PRÄDIKATIV>\n",
      "  <PRÄDIKAT>\n",
      "    <VERB verb=\"sein\">\n",
      "      <FINITUM move=\"Verbzweit\"/>\n",
      "    </VERB>\n",
      "  </PRÄDIKAT>\n",
      "</SATZ>\n"
     ]
    }
   ],
   "source": [
    "reset()\n",
    "\n",
    "s = Start()\n",
    "Prädikativ(s, 'sein')\n",
    "\n",
    "# Coordination of arguments\n",
    "\n",
    "p = Phrase(s, 'Subjekt')\n",
    "Referent(p, 'Vater')\n",
    "Definit(p)\n",
    "k = Koordination(p)\n",
    "q = Phrase(k)\n",
    "Referent(q, '1')\n",
    "\n",
    "q = Phrase(p, 'mit')\n",
    "Referent(q, '1')\n",
    "\n",
    "# Coordination of adjectives with agreement\n",
    "\n",
    "lieb = Addendum(p, 'lieb')\n",
    "k = Koordination(lieb)\n",
    "Addendum(k, 'schwach')\n",
    "\n",
    "# Coordination of predicatives\n",
    "\n",
    "gut = Addendum(Link(s), 'gut')\n",
    "k = Koordination(gut)\n",
    "Addendum(k, 'böse')\n",
    "Addendum(k, 'froh')\n",
    "\n",
    "# Coordination within phrase (rebuild double phrase structure)\n",
    "\n",
    "mit = Phrase(s, 'mit')\n",
    "\n",
    "p = Phrase(mit)\n",
    "Referent(p, '1')\n",
    "# ---\n",
    "k = Koordination(p)\n",
    "# ---\n",
    "p = Phrase(k)\n",
    "Referent(p, '2')\n",
    "\n",
    "# Coordination of phrases\n",
    "\n",
    "p = Phrase(s, 'bei')\n",
    "Referent(p, '1')\n",
    "# ---\n",
    "k = Koordination(p)\n",
    "# ---\n",
    "p = Phrase(k, 'ohne')\n",
    "Referent(p, '2')\n",
    "p = Phrase(k, 'mit')\n",
    "Referent(p, '2')\n",
    "Plural(p)\n",
    "\n",
    "# Coordination of adverbs\n",
    "\n",
    "gestern = Addendum(s, 'gestern')\n",
    "k = Koordination(gestern)\n",
    "Addendum(k, 'heute')\n",
    "Addendum(k, 'morgen')\n",
    "\n",
    "Ende(s)\n",
    "\n",
    "showresult(s)"
   ]
  },
  {
   "cell_type": "code",
   "execution_count": null,
   "metadata": {},
   "outputs": [],
   "source": []
  }
 ],
 "metadata": {
  "kernelspec": {
   "display_name": "Python 3.9.7 64-bit",
   "language": "python",
   "name": "python3"
  },
  "language_info": {
   "codemirror_mode": {
    "name": "ipython",
    "version": 3
   },
   "file_extension": ".py",
   "mimetype": "text/x-python",
   "name": "python",
   "nbconvert_exporter": "python",
   "pygments_lexer": "ipython3",
   "version": "3.9.7"
  },
  "orig_nbformat": 4,
  "vscode": {
   "interpreter": {
    "hash": "aee8b7b246df8f9039afb4144a1f6fd8d2ca17a180786b69acc140d282b71a49"
   }
  }
 },
 "nbformat": 4,
 "nbformat_minor": 2
}
